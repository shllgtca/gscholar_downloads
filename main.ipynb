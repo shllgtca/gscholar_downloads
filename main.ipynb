{
  "cells": [
    {
      "cell_type": "markdown",
      "metadata": {
        "id": "view-in-github",
        "colab_type": "text"
      },
      "source": [
        "<a href=\"https://colab.research.google.com/github/shllgtca/gscholar_downloads/blob/main/main.ipynb\" target=\"_parent\"><img src=\"https://colab.research.google.com/assets/colab-badge.svg\" alt=\"Open In Colab\"/></a>"
      ]
    },
    {
      "cell_type": "markdown",
      "metadata": {
        "id": "EXHz2-4YtBrq"
      },
      "source": [
        "**This notebook downloads paper files (PDF) that are results from a Google Scholar key-words search (scraped via scrapy api). Google scholar scraped data is enriched by title2bib (api.crossref.org), and downloaded using sci-hub (via scidownl).**"
      ]
    },
    {
      "cell_type": "markdown",
      "metadata": {
        "id": "SjCELLp1U-dE"
      },
      "source": [
        "# **Setup**"
      ]
    },
    {
      "cell_type": "code",
      "execution_count": 1,
      "metadata": {
        "colab": {
          "base_uri": "https://localhost:8080/"
        },
        "id": "gwwN8lSoWsVS",
        "outputId": "c355e2d7-92e3-4c43-9ef3-cedde244ac08"
      },
      "outputs": [
        {
          "output_type": "stream",
          "name": "stdout",
          "text": [
            "\u001b[31mERROR: pip's dependency resolver does not currently take into account all the packages that are installed. This behaviour is the source of the following dependency conflicts.\n",
            "ipython 7.9.0 requires jedi>=0.10, which is not installed.\n",
            "flask 1.1.4 requires click<8.0,>=5.1, but you have click 8.1.3 which is incompatible.\u001b[0m\n"
          ]
        }
      ],
      "source": [
        "!pip install scrapy > /dev/null\n",
        "!pip install title2bib > /dev/null\n",
        "!pip install scidownl > /dev/null # https://pypi.org/project/scidownl/"
      ]
    },
    {
      "cell_type": "code",
      "execution_count": 2,
      "metadata": {
        "id": "r_B_Odim_ruW"
      },
      "outputs": [],
      "source": [
        "import scrapy\n",
        "from urllib.parse import urlencode\n",
        "from urllib.parse import urlparse\n",
        "import json\n",
        "from datetime import datetime\n",
        "import pandas as pd\n",
        "from multiprocessing import Pool\n",
        "from title2bib.crossref import get_bib_from_title\n",
        "import bibtexparser\n",
        "from scrapy.crawler import CrawlerProcess\n",
        "import ipywidgets as widgets\n",
        "from ipywidgets import Layout\n",
        "from os.path import exists, isdir, join\n",
        "import datetime as dt\n",
        "from os import makedirs\n",
        "from os import listdir\n",
        "from scidownl import scihub_download"
      ]
    },
    {
      "cell_type": "code",
      "execution_count": 3,
      "metadata": {
        "colab": {
          "base_uri": "https://localhost:8080/"
        },
        "id": "NEjmJgU3U8uK",
        "outputId": "8ff35268-5807-4b61-a752-33688441d329"
      },
      "outputs": [
        {
          "output_type": "stream",
          "name": "stdout",
          "text": [
            "Mounted at /content/drive\n",
            "/content/drive/.shortcut-targets-by-id/1--6j3l2-CYP97e1rjr39g36tKHusOLnh/covid_XAI/results/review/XAI_img/2022-11-03\n"
          ]
        }
      ],
      "source": [
        "from google.colab import drive\n",
        "# Mount your Google Drive\n",
        "drive.mount('/content/drive', force_remount=False)\n",
        "\n",
        "################################################################################\n",
        "# INSERT YOUR OWN ROOT PATH DIRECTORY\n",
        "################################################################################\n",
        "\n",
        "root_path = '/content/drive/My Drive/covid_XAI/results/review/XAI_img/'\n",
        "\n",
        "################################################################################\n",
        "################################################################################\n",
        "\n",
        "review_status = 'new'# new update continue_last\n",
        "\n",
        "################################################################################\n",
        "################################################################################\n",
        "\n",
        "if review_status == 'continue_last':\n",
        "  \n",
        "  dt_dirs = [name for name in listdir(root_path) if isdir(join(root_path, name))]\n",
        "  dt_dirs.remove('final_selection')\n",
        "  if len(dt_dirs)>0: \n",
        "    last_rev_dt = max([dt.datetime.strptime(date, \"%Y-%m-%d\").date() for date in dt_dirs])\n",
        "  else:\n",
        "    last_rev_dt = []  \n",
        "  today_dt_str = str(last_rev_dt)  \n",
        "\n",
        "else:#update or new\n",
        "  \n",
        "  today_dt_str = str(dt.date.today())\n",
        "  makedirs(root_path+today_dt_str)\n",
        "  if review_status == 'new':\n",
        "    makedirs(root_path+'final_selection')\n",
        "\n",
        "path_dt = root_path+today_dt_str+'/'\n",
        "%cd $path_dt"
      ]
    },
    {
      "cell_type": "markdown",
      "metadata": {
        "id": "WIbioAXJ_jmo"
      },
      "source": [
        "# **Parameters**"
      ]
    },
    {
      "cell_type": "code",
      "execution_count": 4,
      "metadata": {
        "id": "ypgATF2YMP8-"
      },
      "outputs": [],
      "source": [
        "################################################################################\n",
        "# INSERT YOUR OWN KEYWORDS                  \n",
        "################################################################################\n",
        "# keywords = ['XAI', 'explainable AI', \n",
        "#              'explainable artificial intelligence','GANs',\n",
        "#              'generative adversarial nets','generative adversarial networks',\n",
        "#              'image processing','image classification','machine learning',\n",
        "#              'deep learning', 'artificial intelligence']\n",
        "\n",
        "keywords = ['(\"XAI\" OR \"explainable AI\" OR \"explainable artificial intelligence\")'\\\n",
        "            ' AND '\\\n",
        "            '(\"image processing\" OR \"image recognition\" OR \"image classification\")']\n",
        "\n",
        "filename_dt = 'papers_'+today_dt_str     \n",
        "################################################################################\n",
        "# INSERT YOUR OWN scrapy_API_PERSONAL_KEY OBTAINED IN :\n",
        "#                   https://dashboard.scraperapi.com/dashboard                  \n",
        "################################################################################\n",
        "scrapy_API_PERSONAL_KEY = '99999999999999999999999999999999' #"
      ]
    },
    {
      "cell_type": "markdown",
      "metadata": {
        "id": "gb64gcWpdkzt"
      },
      "source": [
        "# **Scrap data unreviewed from google scholar**"
      ]
    },
    {
      "cell_type": "markdown",
      "metadata": {
        "id": "Gis_9Kj3doDD"
      },
      "source": [
        "Run scrapy from script \n",
        "\n",
        "- Scrapy from script : https://docs.scrapy.org/en/latest/topics/practices.html?highlight=run%20scrapy%20as%20script#run-scrapy-from-a-script\n",
        "\n",
        "- Iterate over pages : https://dev.to/iankerins/build-your-own-google-scholar-api-with-python-scrapy-4p73\n",
        "\n",
        "- Google only provides 1000 results : https://www.quora.com/Google-scholar-search-results-seem-to-max-out-at-1000-100-pages-10-results-page-for-a-specific-search-Can-I-program-Google-to-go-beyond-1000\n",
        "\n",
        "**Alternative** : https://stackoverflow.com/questions/44938888/construct-dataframe-from-scraped-data-using-scrapy"
      ]
    },
    {
      "cell_type": "code",
      "execution_count": 5,
      "metadata": {
        "id": "R0vj9ZpckLTy"
      },
      "outputs": [],
      "source": [
        "def get_url(url):\n",
        "    payload = {'api_key': scrapy_API_PERSONAL_KEY, 'url': url, 'country_code': 'us'}\n",
        "    proxy_url = 'http://api.scraperapi.com/?' + urlencode(payload)\n",
        "    return proxy_url\n",
        "\n",
        "class scholar_spyder(scrapy.Spider):\n",
        "    name = 'scholar_spyder'\n",
        "    allowed_domains = ['api.scraperapi.com']\n",
        "    custom_settings = {'CLOSESPIDER_ITEMCOUNT': 2,### USED ONLY FOR SMALL TESTS\n",
        "                       'ITEM_CLOSESPIDER':3} ### USED ONLY FOR SMALL TESTS\n",
        "    def start_requests(self):\n",
        "        headers= {'User-Agent': 'Mozilla/5.0 (X11; Linux x86_64; rv:48.0) Gecko/20100101 Firefox/48.0'}\n",
        "        for key in keywords:\n",
        "            url = 'https://scholar.google.com/scholar?' + urlencode({'q': key,'hl': 'en','as_sdt':'0,5','as_ylo':'2019','as_yhi':''})#FUNC {'hl': 'en', 'q': key}\n",
        "            yield scrapy.Request(get_url(url), headers=headers, callback=self.parse, meta={'position': 0})\n",
        "\n",
        "    def parse(self, response):\n",
        "        position = response.meta['position']\n",
        "        for res in response.xpath('//*[@data-rp]'):\n",
        "            link = res.xpath('.//h3/a/@href').extract_first()\n",
        "            temp = res.xpath('.//h3/a//text()').extract()\n",
        "            if not temp:\n",
        "                title = \"[C] \" + \"\".join(res.xpath('.//h3/span[@id]//text()').extract())\n",
        "            else:\n",
        "                title = \"\".join(temp)\n",
        "            snippet = \"\".join(res.xpath('.//*[@class=\"gs_rs\"]//text()').extract())\n",
        "            cited = res.xpath('.//a[starts-with(text(),\"Cited\")]/text()').extract_first()\n",
        "            temp = res.xpath('.//a[starts-with(text(),\"Related\")]/@href').extract_first()\n",
        "            related = \"https://scholar.google.com\" + temp if temp else \"\"\n",
        "            num_versions = res.xpath('.//a[contains(text(),\"version\")]/text()').extract_first()\n",
        "            published_data = \"\".join(res.xpath('.//div[@class=\"gs_a\"]//text()').extract())\n",
        "            position += 1\n",
        "            item = {'title_GS': title, 'link': link, 'cited': cited, 'relatedLink': related, 'position': position,\n",
        "                    'numOfVersions': num_versions, 'publishedData': published_data, 'snippet': snippet}\n",
        "            yield item\n",
        "        next_page = response.xpath('//td[@align=\"left\"]/a/@href').extract_first()\n",
        "\n",
        "        if next_page:\n",
        "            url = \"https://scholar.google.com\" + next_page\n",
        "            yield scrapy.Request(get_url(url), callback=self.parse,meta={'position': position}, dont_filter=True)"
      ]
    },
    {
      "cell_type": "code",
      "execution_count": 6,
      "metadata": {
        "colab": {
          "base_uri": "https://localhost:8080/"
        },
        "id": "Ux1b5ccC7YFF",
        "outputId": "fead9b8f-0ca9-4056-f19e-e88a741fe4d6"
      },
      "outputs": [
        {
          "output_type": "stream",
          "name": "stderr",
          "text": [
            "INFO:scrapy.utils.log:Scrapy 2.7.1 started (bot: scrapybot)\n",
            "2022-11-03 13:33:45 [scrapy.utils.log] INFO: Scrapy 2.7.1 started (bot: scrapybot)\n",
            "INFO:scrapy.utils.log:Versions: lxml 4.9.1.0, libxml2 2.9.14, cssselect 1.2.0, parsel 1.7.0, w3lib 2.0.1, Twisted 22.10.0, Python 3.7.15 (default, Oct 12 2022, 19:14:55) - [GCC 7.5.0], pyOpenSSL 22.1.0 (OpenSSL 3.0.7 1 Nov 2022), cryptography 38.0.3, Platform Linux-5.10.133+-x86_64-with-Ubuntu-18.04-bionic\n",
            "2022-11-03 13:33:45 [scrapy.utils.log] INFO: Versions: lxml 4.9.1.0, libxml2 2.9.14, cssselect 1.2.0, parsel 1.7.0, w3lib 2.0.1, Twisted 22.10.0, Python 3.7.15 (default, Oct 12 2022, 19:14:55) - [GCC 7.5.0], pyOpenSSL 22.1.0 (OpenSSL 3.0.7 1 Nov 2022), cryptography 38.0.3, Platform Linux-5.10.133+-x86_64-with-Ubuntu-18.04-bionic\n",
            "INFO:scrapy.crawler:Overridden settings:\n",
            "{'CLOSESPIDER_ITEMCOUNT': 2}\n",
            "2022-11-03 13:33:45 [scrapy.crawler] INFO: Overridden settings:\n",
            "{'CLOSESPIDER_ITEMCOUNT': 2}\n",
            "/usr/local/lib/python3.7/dist-packages/scrapy/utils/request.py:231: ScrapyDeprecationWarning: '2.6' is a deprecated value for the 'REQUEST_FINGERPRINTER_IMPLEMENTATION' setting.\n",
            "\n",
            "It is also the default value. In other words, it is normal to get this warning if you have not defined a value for the 'REQUEST_FINGERPRINTER_IMPLEMENTATION' setting. This is so for backward compatibility reasons, but it will change in a future version of Scrapy.\n",
            "\n",
            "See the documentation of the 'REQUEST_FINGERPRINTER_IMPLEMENTATION' setting for information on how to handle this deprecation.\n",
            "  return cls(crawler)\n",
            "DEBUG:scrapy.utils.log:Using reactor: twisted.internet.epollreactor.EPollReactor\n",
            "2022-11-03 13:33:45 [scrapy.utils.log] DEBUG: Using reactor: twisted.internet.epollreactor.EPollReactor\n",
            "INFO:scrapy.extensions.telnet:Telnet Password: de96f909762ea04b\n",
            "2022-11-03 13:33:45 [scrapy.extensions.telnet] INFO: Telnet Password: de96f909762ea04b\n",
            "INFO:scrapy.middleware:Enabled extensions:\n",
            "['scrapy.extensions.corestats.CoreStats',\n",
            " 'scrapy.extensions.telnet.TelnetConsole',\n",
            " 'scrapy.extensions.memusage.MemoryUsage',\n",
            " 'scrapy.extensions.closespider.CloseSpider',\n",
            " 'scrapy.extensions.feedexport.FeedExporter',\n",
            " 'scrapy.extensions.logstats.LogStats']\n",
            "2022-11-03 13:33:45 [scrapy.middleware] INFO: Enabled extensions:\n",
            "['scrapy.extensions.corestats.CoreStats',\n",
            " 'scrapy.extensions.telnet.TelnetConsole',\n",
            " 'scrapy.extensions.memusage.MemoryUsage',\n",
            " 'scrapy.extensions.closespider.CloseSpider',\n",
            " 'scrapy.extensions.feedexport.FeedExporter',\n",
            " 'scrapy.extensions.logstats.LogStats']\n",
            "INFO:scrapy.middleware:Enabled downloader middlewares:\n",
            "['scrapy.downloadermiddlewares.httpauth.HttpAuthMiddleware',\n",
            " 'scrapy.downloadermiddlewares.downloadtimeout.DownloadTimeoutMiddleware',\n",
            " 'scrapy.downloadermiddlewares.defaultheaders.DefaultHeadersMiddleware',\n",
            " 'scrapy.downloadermiddlewares.useragent.UserAgentMiddleware',\n",
            " 'scrapy.downloadermiddlewares.retry.RetryMiddleware',\n",
            " 'scrapy.downloadermiddlewares.redirect.MetaRefreshMiddleware',\n",
            " 'scrapy.downloadermiddlewares.httpcompression.HttpCompressionMiddleware',\n",
            " 'scrapy.downloadermiddlewares.redirect.RedirectMiddleware',\n",
            " 'scrapy.downloadermiddlewares.cookies.CookiesMiddleware',\n",
            " 'scrapy.downloadermiddlewares.httpproxy.HttpProxyMiddleware',\n",
            " 'scrapy.downloadermiddlewares.stats.DownloaderStats']\n",
            "2022-11-03 13:33:45 [scrapy.middleware] INFO: Enabled downloader middlewares:\n",
            "['scrapy.downloadermiddlewares.httpauth.HttpAuthMiddleware',\n",
            " 'scrapy.downloadermiddlewares.downloadtimeout.DownloadTimeoutMiddleware',\n",
            " 'scrapy.downloadermiddlewares.defaultheaders.DefaultHeadersMiddleware',\n",
            " 'scrapy.downloadermiddlewares.useragent.UserAgentMiddleware',\n",
            " 'scrapy.downloadermiddlewares.retry.RetryMiddleware',\n",
            " 'scrapy.downloadermiddlewares.redirect.MetaRefreshMiddleware',\n",
            " 'scrapy.downloadermiddlewares.httpcompression.HttpCompressionMiddleware',\n",
            " 'scrapy.downloadermiddlewares.redirect.RedirectMiddleware',\n",
            " 'scrapy.downloadermiddlewares.cookies.CookiesMiddleware',\n",
            " 'scrapy.downloadermiddlewares.httpproxy.HttpProxyMiddleware',\n",
            " 'scrapy.downloadermiddlewares.stats.DownloaderStats']\n",
            "INFO:scrapy.middleware:Enabled spider middlewares:\n",
            "['scrapy.spidermiddlewares.httperror.HttpErrorMiddleware',\n",
            " 'scrapy.spidermiddlewares.offsite.OffsiteMiddleware',\n",
            " 'scrapy.spidermiddlewares.referer.RefererMiddleware',\n",
            " 'scrapy.spidermiddlewares.urllength.UrlLengthMiddleware',\n",
            " 'scrapy.spidermiddlewares.depth.DepthMiddleware']\n",
            "2022-11-03 13:33:45 [scrapy.middleware] INFO: Enabled spider middlewares:\n",
            "['scrapy.spidermiddlewares.httperror.HttpErrorMiddleware',\n",
            " 'scrapy.spidermiddlewares.offsite.OffsiteMiddleware',\n",
            " 'scrapy.spidermiddlewares.referer.RefererMiddleware',\n",
            " 'scrapy.spidermiddlewares.urllength.UrlLengthMiddleware',\n",
            " 'scrapy.spidermiddlewares.depth.DepthMiddleware']\n",
            "INFO:scrapy.middleware:Enabled item pipelines:\n",
            "[]\n",
            "2022-11-03 13:33:45 [scrapy.middleware] INFO: Enabled item pipelines:\n",
            "[]\n",
            "INFO:scrapy.core.engine:Spider opened\n",
            "2022-11-03 13:33:45 [scrapy.core.engine] INFO: Spider opened\n",
            "INFO:scrapy.extensions.logstats:Crawled 0 pages (at 0 pages/min), scraped 0 items (at 0 items/min)\n",
            "2022-11-03 13:33:45 [scrapy.extensions.logstats] INFO: Crawled 0 pages (at 0 pages/min), scraped 0 items (at 0 items/min)\n",
            "INFO:scrapy.extensions.telnet:Telnet console listening on 127.0.0.1:6023\n",
            "2022-11-03 13:33:45 [scrapy.extensions.telnet] INFO: Telnet console listening on 127.0.0.1:6023\n",
            "DEBUG:filelock:Attempting to acquire lock 140206447387856 on /root/.cache/python-tldextract/3.7.15.final__usr__7d8fdf__tldextract-3.4.0/publicsuffix.org-tlds/de84b5ca2167d4c83e38fb162f2e8738.tldextract.json.lock\n",
            "2022-11-03 13:33:46 [filelock] DEBUG: Attempting to acquire lock 140206447387856 on /root/.cache/python-tldextract/3.7.15.final__usr__7d8fdf__tldextract-3.4.0/publicsuffix.org-tlds/de84b5ca2167d4c83e38fb162f2e8738.tldextract.json.lock\n",
            "DEBUG:filelock:Lock 140206447387856 acquired on /root/.cache/python-tldextract/3.7.15.final__usr__7d8fdf__tldextract-3.4.0/publicsuffix.org-tlds/de84b5ca2167d4c83e38fb162f2e8738.tldextract.json.lock\n",
            "2022-11-03 13:33:46 [filelock] DEBUG: Lock 140206447387856 acquired on /root/.cache/python-tldextract/3.7.15.final__usr__7d8fdf__tldextract-3.4.0/publicsuffix.org-tlds/de84b5ca2167d4c83e38fb162f2e8738.tldextract.json.lock\n",
            "DEBUG:filelock:Attempting to acquire lock 140206438619856 on /root/.cache/python-tldextract/3.7.15.final__usr__7d8fdf__tldextract-3.4.0/urls/62bf135d1c2f3d4db4228b9ecaf507a2.tldextract.json.lock\n",
            "2022-11-03 13:33:46 [filelock] DEBUG: Attempting to acquire lock 140206438619856 on /root/.cache/python-tldextract/3.7.15.final__usr__7d8fdf__tldextract-3.4.0/urls/62bf135d1c2f3d4db4228b9ecaf507a2.tldextract.json.lock\n",
            "DEBUG:filelock:Lock 140206438619856 acquired on /root/.cache/python-tldextract/3.7.15.final__usr__7d8fdf__tldextract-3.4.0/urls/62bf135d1c2f3d4db4228b9ecaf507a2.tldextract.json.lock\n",
            "2022-11-03 13:33:46 [filelock] DEBUG: Lock 140206438619856 acquired on /root/.cache/python-tldextract/3.7.15.final__usr__7d8fdf__tldextract-3.4.0/urls/62bf135d1c2f3d4db4228b9ecaf507a2.tldextract.json.lock\n",
            "DEBUG:urllib3.connectionpool:Starting new HTTPS connection (1): publicsuffix.org:443\n",
            "2022-11-03 13:33:46 [urllib3.connectionpool] DEBUG: Starting new HTTPS connection (1): publicsuffix.org:443\n",
            "DEBUG:urllib3.connectionpool:https://publicsuffix.org:443 \"GET /list/public_suffix_list.dat HTTP/1.1\" 200 None\n",
            "2022-11-03 13:33:47 [urllib3.connectionpool] DEBUG: https://publicsuffix.org:443 \"GET /list/public_suffix_list.dat HTTP/1.1\" 200 None\n",
            "DEBUG:filelock:Attempting to release lock 140206438619856 on /root/.cache/python-tldextract/3.7.15.final__usr__7d8fdf__tldextract-3.4.0/urls/62bf135d1c2f3d4db4228b9ecaf507a2.tldextract.json.lock\n",
            "2022-11-03 13:33:47 [filelock] DEBUG: Attempting to release lock 140206438619856 on /root/.cache/python-tldextract/3.7.15.final__usr__7d8fdf__tldextract-3.4.0/urls/62bf135d1c2f3d4db4228b9ecaf507a2.tldextract.json.lock\n",
            "DEBUG:filelock:Lock 140206438619856 released on /root/.cache/python-tldextract/3.7.15.final__usr__7d8fdf__tldextract-3.4.0/urls/62bf135d1c2f3d4db4228b9ecaf507a2.tldextract.json.lock\n",
            "2022-11-03 13:33:47 [filelock] DEBUG: Lock 140206438619856 released on /root/.cache/python-tldextract/3.7.15.final__usr__7d8fdf__tldextract-3.4.0/urls/62bf135d1c2f3d4db4228b9ecaf507a2.tldextract.json.lock\n",
            "DEBUG:filelock:Attempting to release lock 140206447387856 on /root/.cache/python-tldextract/3.7.15.final__usr__7d8fdf__tldextract-3.4.0/publicsuffix.org-tlds/de84b5ca2167d4c83e38fb162f2e8738.tldextract.json.lock\n",
            "2022-11-03 13:33:47 [filelock] DEBUG: Attempting to release lock 140206447387856 on /root/.cache/python-tldextract/3.7.15.final__usr__7d8fdf__tldextract-3.4.0/publicsuffix.org-tlds/de84b5ca2167d4c83e38fb162f2e8738.tldextract.json.lock\n",
            "DEBUG:filelock:Lock 140206447387856 released on /root/.cache/python-tldextract/3.7.15.final__usr__7d8fdf__tldextract-3.4.0/publicsuffix.org-tlds/de84b5ca2167d4c83e38fb162f2e8738.tldextract.json.lock\n",
            "2022-11-03 13:33:47 [filelock] DEBUG: Lock 140206447387856 released on /root/.cache/python-tldextract/3.7.15.final__usr__7d8fdf__tldextract-3.4.0/publicsuffix.org-tlds/de84b5ca2167d4c83e38fb162f2e8738.tldextract.json.lock\n",
            "DEBUG:scrapy.core.engine:Crawled (200) <GET http://api.scraperapi.com/?api_key=1d60a34e21154245cd8dad9044f66b1d&url=https%3A%2F%2Fscholar.google.com%2Fscholar%3Fq%3D%2528%2522XAI%2522%2BOR%2B%2522explainable%2BAI%2522%2BOR%2B%2522explainable%2Bartificial%2Bintelligence%2522%2529%2BAND%2B%2528%2522image%2Bprocessing%2522%2BOR%2B%2522image%2Brecognition%2522%2BOR%2B%2522image%2Bclassification%2522%2529%26hl%3Den%26as_sdt%3D0%252C5%26as_ylo%3D2019%26as_yhi%3D&country_code=us> (referer: None)\n",
            "2022-11-03 13:33:47 [scrapy.core.engine] DEBUG: Crawled (200) <GET http://api.scraperapi.com/?api_key=1d60a34e21154245cd8dad9044f66b1d&url=https%3A%2F%2Fscholar.google.com%2Fscholar%3Fq%3D%2528%2522XAI%2522%2BOR%2B%2522explainable%2BAI%2522%2BOR%2B%2522explainable%2Bartificial%2Bintelligence%2522%2529%2BAND%2B%2528%2522image%2Bprocessing%2522%2BOR%2B%2522image%2Brecognition%2522%2BOR%2B%2522image%2Bclassification%2522%2529%26hl%3Den%26as_sdt%3D0%252C5%26as_ylo%3D2019%26as_yhi%3D&country_code=us> (referer: None)\n",
            "DEBUG:scrapy.core.scraper:Scraped from <200 http://api.scraperapi.com/?api_key=1d60a34e21154245cd8dad9044f66b1d&url=https%3A%2F%2Fscholar.google.com%2Fscholar%3Fq%3D%2528%2522XAI%2522%2BOR%2B%2522explainable%2BAI%2522%2BOR%2B%2522explainable%2Bartificial%2Bintelligence%2522%2529%2BAND%2B%2528%2522image%2Bprocessing%2522%2BOR%2B%2522image%2Brecognition%2522%2BOR%2B%2522image%2Bclassification%2522%2529%26hl%3Den%26as_sdt%3D0%252C5%26as_ylo%3D2019%26as_yhi%3D&country_code=us>\n",
            "{'title_GS': 'Neuroscope: An explainable ai toolbox for semantic segmentation and image classification of convolutional neural nets', 'link': 'https://www.mdpi.com/1018678', 'cited': 'Cited by 12', 'relatedLink': 'https://scholar.google.com/scholar?q=related:JUg2fWvtwwcJ:scholar.google.com/&scioq=(%22XAI%22+OR+%22explainable+AI%22+OR+%22explainable+artificial+intelligence%22)+AND+(%22image+processing%22+OR+%22image+recognition%22+OR+%22image+classification%22)&hl=en&as_sdt=0,5&as_ylo=2019', 'position': 1, 'numOfVersions': 'All 8 versions', 'publishedData': 'C Schorr, P Goodarzi, F Chen, T Dahmen\\xa0- Applied Sciences, 2021 - mdpi.com', 'snippet': '… methods for neural networks regarding image classification. The next section deals with the \\n… available tools for XAI with a focus on both image classification and semantic segmentation. …'}\n",
            "2022-11-03 13:33:47 [scrapy.core.scraper] DEBUG: Scraped from <200 http://api.scraperapi.com/?api_key=1d60a34e21154245cd8dad9044f66b1d&url=https%3A%2F%2Fscholar.google.com%2Fscholar%3Fq%3D%2528%2522XAI%2522%2BOR%2B%2522explainable%2BAI%2522%2BOR%2B%2522explainable%2Bartificial%2Bintelligence%2522%2529%2BAND%2B%2528%2522image%2Bprocessing%2522%2BOR%2B%2522image%2Brecognition%2522%2BOR%2B%2522image%2Bclassification%2522%2529%26hl%3Den%26as_sdt%3D0%252C5%26as_ylo%3D2019%26as_yhi%3D&country_code=us>\n",
            "{'title_GS': 'Neuroscope: An explainable ai toolbox for semantic segmentation and image classification of convolutional neural nets', 'link': 'https://www.mdpi.com/1018678', 'cited': 'Cited by 12', 'relatedLink': 'https://scholar.google.com/scholar?q=related:JUg2fWvtwwcJ:scholar.google.com/&scioq=(%22XAI%22+OR+%22explainable+AI%22+OR+%22explainable+artificial+intelligence%22)+AND+(%22image+processing%22+OR+%22image+recognition%22+OR+%22image+classification%22)&hl=en&as_sdt=0,5&as_ylo=2019', 'position': 1, 'numOfVersions': 'All 8 versions', 'publishedData': 'C Schorr, P Goodarzi, F Chen, T Dahmen\\xa0- Applied Sciences, 2021 - mdpi.com', 'snippet': '… methods for neural networks regarding image classification. The next section deals with the \\n… available tools for XAI with a focus on both image classification and semantic segmentation. …'}\n",
            "DEBUG:scrapy.core.scraper:Scraped from <200 http://api.scraperapi.com/?api_key=1d60a34e21154245cd8dad9044f66b1d&url=https%3A%2F%2Fscholar.google.com%2Fscholar%3Fq%3D%2528%2522XAI%2522%2BOR%2B%2522explainable%2BAI%2522%2BOR%2B%2522explainable%2Bartificial%2Bintelligence%2522%2529%2BAND%2B%2528%2522image%2Bprocessing%2522%2BOR%2B%2522image%2Brecognition%2522%2BOR%2B%2522image%2Bclassification%2522%2529%26hl%3Den%26as_sdt%3D0%252C5%26as_ylo%3D2019%26as_yhi%3D&country_code=us>\n",
            "{'title_GS': 'Getting playful with explainable AI: games with a purpose to improve human understanding of AI', 'link': 'https://dl.acm.org/doi/abs/10.1145/3334480.3382831', 'cited': 'Cited by 14', 'relatedLink': 'https://scholar.google.com/scholar?q=related:ZPlP9uRS-GQJ:scholar.google.com/&scioq=(%22XAI%22+OR+%22explainable+AI%22+OR+%22explainable+artificial+intelligence%22)+AND+(%22image+processing%22+OR+%22image+recognition%22+OR+%22image+classification%22)&hl=en&as_sdt=0,5&as_ylo=2019', 'position': 2, 'numOfVersions': None, 'publishedData': 'LB Fulton, JY Lee, Q Wang, Z Yuan, J Hammer…\\xa0- Extended Abstracts of\\xa0…, 2020 - dl.acm.org', 'snippet': '… explainable AI (XAI). This research will contribute to literature on XAI, image recognition, \\nand GWAP. This work will also provide discussion as to the utility of GWAP designs for …'}\n",
            "2022-11-03 13:33:47 [scrapy.core.scraper] DEBUG: Scraped from <200 http://api.scraperapi.com/?api_key=1d60a34e21154245cd8dad9044f66b1d&url=https%3A%2F%2Fscholar.google.com%2Fscholar%3Fq%3D%2528%2522XAI%2522%2BOR%2B%2522explainable%2BAI%2522%2BOR%2B%2522explainable%2Bartificial%2Bintelligence%2522%2529%2BAND%2B%2528%2522image%2Bprocessing%2522%2BOR%2B%2522image%2Brecognition%2522%2BOR%2B%2522image%2Bclassification%2522%2529%26hl%3Den%26as_sdt%3D0%252C5%26as_ylo%3D2019%26as_yhi%3D&country_code=us>\n",
            "{'title_GS': 'Getting playful with explainable AI: games with a purpose to improve human understanding of AI', 'link': 'https://dl.acm.org/doi/abs/10.1145/3334480.3382831', 'cited': 'Cited by 14', 'relatedLink': 'https://scholar.google.com/scholar?q=related:ZPlP9uRS-GQJ:scholar.google.com/&scioq=(%22XAI%22+OR+%22explainable+AI%22+OR+%22explainable+artificial+intelligence%22)+AND+(%22image+processing%22+OR+%22image+recognition%22+OR+%22image+classification%22)&hl=en&as_sdt=0,5&as_ylo=2019', 'position': 2, 'numOfVersions': None, 'publishedData': 'LB Fulton, JY Lee, Q Wang, Z Yuan, J Hammer…\\xa0- Extended Abstracts of\\xa0…, 2020 - dl.acm.org', 'snippet': '… explainable AI (XAI). This research will contribute to literature on XAI, image recognition, \\nand GWAP. This work will also provide discussion as to the utility of GWAP designs for …'}\n",
            "INFO:scrapy.core.engine:Closing spider (closespider_itemcount)\n",
            "2022-11-03 13:33:47 [scrapy.core.engine] INFO: Closing spider (closespider_itemcount)\n",
            "DEBUG:scrapy.core.scraper:Scraped from <200 http://api.scraperapi.com/?api_key=1d60a34e21154245cd8dad9044f66b1d&url=https%3A%2F%2Fscholar.google.com%2Fscholar%3Fq%3D%2528%2522XAI%2522%2BOR%2B%2522explainable%2BAI%2522%2BOR%2B%2522explainable%2Bartificial%2Bintelligence%2522%2529%2BAND%2B%2528%2522image%2Bprocessing%2522%2BOR%2B%2522image%2Brecognition%2522%2BOR%2B%2522image%2Bclassification%2522%2529%26hl%3Den%26as_sdt%3D0%252C5%26as_ylo%3D2019%26as_yhi%3D&country_code=us>\n",
            "{'title_GS': 'User-Centric Enhancements to Explainable AI Algorithms for Image Classification', 'link': 'https://escholarship.org/uc/item/0n90s7q6', 'cited': 'Cited by 1', 'relatedLink': '', 'position': 3, 'numOfVersions': 'All 3 versions', 'publishedData': 'S Soltani, RA Kaufman, MJ Pazzani\\xa0- …\\xa0of the Annual Meeting of the\\xa0…, 2022 - escholarship.org', 'snippet': '… We aim to make XAI explanations more user-centric by introducing modifications to existing \\nXAI algorithms based on cognitive theory. The goal of this research is to yield intuitive XAI ex…'}\n",
            "2022-11-03 13:33:47 [scrapy.core.scraper] DEBUG: Scraped from <200 http://api.scraperapi.com/?api_key=1d60a34e21154245cd8dad9044f66b1d&url=https%3A%2F%2Fscholar.google.com%2Fscholar%3Fq%3D%2528%2522XAI%2522%2BOR%2B%2522explainable%2BAI%2522%2BOR%2B%2522explainable%2Bartificial%2Bintelligence%2522%2529%2BAND%2B%2528%2522image%2Bprocessing%2522%2BOR%2B%2522image%2Brecognition%2522%2BOR%2B%2522image%2Bclassification%2522%2529%26hl%3Den%26as_sdt%3D0%252C5%26as_ylo%3D2019%26as_yhi%3D&country_code=us>\n",
            "{'title_GS': 'User-Centric Enhancements to Explainable AI Algorithms for Image Classification', 'link': 'https://escholarship.org/uc/item/0n90s7q6', 'cited': 'Cited by 1', 'relatedLink': '', 'position': 3, 'numOfVersions': 'All 3 versions', 'publishedData': 'S Soltani, RA Kaufman, MJ Pazzani\\xa0- …\\xa0of the Annual Meeting of the\\xa0…, 2022 - escholarship.org', 'snippet': '… We aim to make XAI explanations more user-centric by introducing modifications to existing \\nXAI algorithms based on cognitive theory. The goal of this research is to yield intuitive XAI ex…'}\n",
            "DEBUG:scrapy.core.scraper:Scraped from <200 http://api.scraperapi.com/?api_key=1d60a34e21154245cd8dad9044f66b1d&url=https%3A%2F%2Fscholar.google.com%2Fscholar%3Fq%3D%2528%2522XAI%2522%2BOR%2B%2522explainable%2BAI%2522%2BOR%2B%2522explainable%2Bartificial%2Bintelligence%2522%2529%2BAND%2B%2528%2522image%2Bprocessing%2522%2BOR%2B%2522image%2Brecognition%2522%2BOR%2B%2522image%2Bclassification%2522%2529%26hl%3Den%26as_sdt%3D0%252C5%26as_ylo%3D2019%26as_yhi%3D&country_code=us>\n",
            "{'title_GS': 'Malaria cell image classification by explainable artificial intelligence', 'link': 'https://link.springer.com/article/10.1007/s12553-021-00620-z', 'cited': 'Cited by 2', 'relatedLink': 'https://scholar.google.com/scholar?q=related:s6plQ_3GxIAJ:scholar.google.com/&scioq=(%22XAI%22+OR+%22explainable+AI%22+OR+%22explainable+artificial+intelligence%22)+AND+(%22image+processing%22+OR+%22image+recognition%22+OR+%22image+classification%22)&hl=en&as_sdt=0,5&as_ylo=2019', 'position': 4, 'numOfVersions': None, 'publishedData': 'M Raihan, AA Nahid\\xa0- Health and Technology, 2022 - Springer', 'snippet': \"… Then an XAI can be used to prioritize these fewer features by their most contribution to the … \\nXAI can provide an insight into the model or the reason behind the model's prediction. The XAI …\"}\n",
            "2022-11-03 13:33:47 [scrapy.core.scraper] DEBUG: Scraped from <200 http://api.scraperapi.com/?api_key=1d60a34e21154245cd8dad9044f66b1d&url=https%3A%2F%2Fscholar.google.com%2Fscholar%3Fq%3D%2528%2522XAI%2522%2BOR%2B%2522explainable%2BAI%2522%2BOR%2B%2522explainable%2Bartificial%2Bintelligence%2522%2529%2BAND%2B%2528%2522image%2Bprocessing%2522%2BOR%2B%2522image%2Brecognition%2522%2BOR%2B%2522image%2Bclassification%2522%2529%26hl%3Den%26as_sdt%3D0%252C5%26as_ylo%3D2019%26as_yhi%3D&country_code=us>\n",
            "{'title_GS': 'Malaria cell image classification by explainable artificial intelligence', 'link': 'https://link.springer.com/article/10.1007/s12553-021-00620-z', 'cited': 'Cited by 2', 'relatedLink': 'https://scholar.google.com/scholar?q=related:s6plQ_3GxIAJ:scholar.google.com/&scioq=(%22XAI%22+OR+%22explainable+AI%22+OR+%22explainable+artificial+intelligence%22)+AND+(%22image+processing%22+OR+%22image+recognition%22+OR+%22image+classification%22)&hl=en&as_sdt=0,5&as_ylo=2019', 'position': 4, 'numOfVersions': None, 'publishedData': 'M Raihan, AA Nahid\\xa0- Health and Technology, 2022 - Springer', 'snippet': \"… Then an XAI can be used to prioritize these fewer features by their most contribution to the … \\nXAI can provide an insight into the model or the reason behind the model's prediction. The XAI …\"}\n",
            "DEBUG:scrapy.core.scraper:Scraped from <200 http://api.scraperapi.com/?api_key=1d60a34e21154245cd8dad9044f66b1d&url=https%3A%2F%2Fscholar.google.com%2Fscholar%3Fq%3D%2528%2522XAI%2522%2BOR%2B%2522explainable%2BAI%2522%2BOR%2B%2522explainable%2Bartificial%2Bintelligence%2522%2529%2BAND%2B%2528%2522image%2Bprocessing%2522%2BOR%2B%2522image%2Brecognition%2522%2BOR%2B%2522image%2Bclassification%2522%2529%26hl%3Den%26as_sdt%3D0%252C5%26as_ylo%3D2019%26as_yhi%3D&country_code=us>\n",
            "{'title_GS': 'A Novel Explainable Artificial Intelligence Model in Image Classification problem', 'link': 'https://www.researchgate.net/profile/Hung-Nguyen-439/publication/362165478_A_Novel_Explainable_Artificial_Intelligence_Model_in_Image_Classification_problem/links/62d9b61482bb47299295151c/A-Novel-Explainable-Artificial-Intelligence-Model-in-Image-Classification-problem.pdf', 'cited': None, 'relatedLink': '', 'position': 5, 'numOfVersions': None, 'publishedData': 'HQ Cao, HTT Nguyen, KVT Nguyen, PX Nguyen - researchgate.net', 'snippet': '… the most intuitive and accurate for the image classification problem. These regions explained \\nby … In this work, we propose a new local post-hoc method of XAI in the image classification …'}\n",
            "2022-11-03 13:33:47 [scrapy.core.scraper] DEBUG: Scraped from <200 http://api.scraperapi.com/?api_key=1d60a34e21154245cd8dad9044f66b1d&url=https%3A%2F%2Fscholar.google.com%2Fscholar%3Fq%3D%2528%2522XAI%2522%2BOR%2B%2522explainable%2BAI%2522%2BOR%2B%2522explainable%2Bartificial%2Bintelligence%2522%2529%2BAND%2B%2528%2522image%2Bprocessing%2522%2BOR%2B%2522image%2Brecognition%2522%2BOR%2B%2522image%2Bclassification%2522%2529%26hl%3Den%26as_sdt%3D0%252C5%26as_ylo%3D2019%26as_yhi%3D&country_code=us>\n",
            "{'title_GS': 'A Novel Explainable Artificial Intelligence Model in Image Classification problem', 'link': 'https://www.researchgate.net/profile/Hung-Nguyen-439/publication/362165478_A_Novel_Explainable_Artificial_Intelligence_Model_in_Image_Classification_problem/links/62d9b61482bb47299295151c/A-Novel-Explainable-Artificial-Intelligence-Model-in-Image-Classification-problem.pdf', 'cited': None, 'relatedLink': '', 'position': 5, 'numOfVersions': None, 'publishedData': 'HQ Cao, HTT Nguyen, KVT Nguyen, PX Nguyen - researchgate.net', 'snippet': '… the most intuitive and accurate for the image classification problem. These regions explained \\nby … In this work, we propose a new local post-hoc method of XAI in the image classification …'}\n",
            "DEBUG:scrapy.core.scraper:Scraped from <200 http://api.scraperapi.com/?api_key=1d60a34e21154245cd8dad9044f66b1d&url=https%3A%2F%2Fscholar.google.com%2Fscholar%3Fq%3D%2528%2522XAI%2522%2BOR%2B%2522explainable%2BAI%2522%2BOR%2B%2522explainable%2Bartificial%2Bintelligence%2522%2529%2BAND%2B%2528%2522image%2Bprocessing%2522%2BOR%2B%2522image%2Brecognition%2522%2BOR%2B%2522image%2Bclassification%2522%2529%26hl%3Den%26as_sdt%3D0%252C5%26as_ylo%3D2019%26as_yhi%3D&country_code=us>\n",
            "{'title_GS': 'Explainable artificial intelligence for developing smart cities solutions', 'link': 'https://www.mdpi.com/889748', 'cited': 'Cited by 21', 'relatedLink': 'https://scholar.google.com/scholar?q=related:7aF_0OzAongJ:scholar.google.com/&scioq=(%22XAI%22+OR+%22explainable+AI%22+OR+%22explainable+artificial+intelligence%22)+AND+(%22image+processing%22+OR+%22image+recognition%22+OR+%22image+classification%22)&hl=en&as_sdt=0,5&as_ylo=2019', 'position': 6, 'numOfVersions': 'All 4 versions', 'publishedData': 'D Thakker, BK Mishra, A Abdullatif, S Mazumdar…\\xa0- Smart Cities, 2020 - mdpi.com', 'snippet': '… In this work, we have made a case for ‘Explainable AI’ with a hybrid image classification \\nmodel consisting of ontological representation of the domain including rules captured with the …'}\n",
            "2022-11-03 13:33:47 [scrapy.core.scraper] DEBUG: Scraped from <200 http://api.scraperapi.com/?api_key=1d60a34e21154245cd8dad9044f66b1d&url=https%3A%2F%2Fscholar.google.com%2Fscholar%3Fq%3D%2528%2522XAI%2522%2BOR%2B%2522explainable%2BAI%2522%2BOR%2B%2522explainable%2Bartificial%2Bintelligence%2522%2529%2BAND%2B%2528%2522image%2Bprocessing%2522%2BOR%2B%2522image%2Brecognition%2522%2BOR%2B%2522image%2Bclassification%2522%2529%26hl%3Den%26as_sdt%3D0%252C5%26as_ylo%3D2019%26as_yhi%3D&country_code=us>\n",
            "{'title_GS': 'Explainable artificial intelligence for developing smart cities solutions', 'link': 'https://www.mdpi.com/889748', 'cited': 'Cited by 21', 'relatedLink': 'https://scholar.google.com/scholar?q=related:7aF_0OzAongJ:scholar.google.com/&scioq=(%22XAI%22+OR+%22explainable+AI%22+OR+%22explainable+artificial+intelligence%22)+AND+(%22image+processing%22+OR+%22image+recognition%22+OR+%22image+classification%22)&hl=en&as_sdt=0,5&as_ylo=2019', 'position': 6, 'numOfVersions': 'All 4 versions', 'publishedData': 'D Thakker, BK Mishra, A Abdullatif, S Mazumdar…\\xa0- Smart Cities, 2020 - mdpi.com', 'snippet': '… In this work, we have made a case for ‘Explainable AI’ with a hybrid image classification \\nmodel consisting of ontological representation of the domain including rules captured with the …'}\n",
            "DEBUG:scrapy.core.scraper:Scraped from <200 http://api.scraperapi.com/?api_key=1d60a34e21154245cd8dad9044f66b1d&url=https%3A%2F%2Fscholar.google.com%2Fscholar%3Fq%3D%2528%2522XAI%2522%2BOR%2B%2522explainable%2BAI%2522%2BOR%2B%2522explainable%2Bartificial%2Bintelligence%2522%2529%2BAND%2B%2528%2522image%2Bprocessing%2522%2BOR%2B%2522image%2Brecognition%2522%2BOR%2B%2522image%2Bclassification%2522%2529%26hl%3Den%26as_sdt%3D0%252C5%26as_ylo%3D2019%26as_yhi%3D&country_code=us>\n",
            "{'title_GS': 'A Hybrid Approach to Histopathological Diagnosis of Paratuberculosis in Sheep with Image Classification and Explainable Artificial Intelligence with Grad-CAM', 'link': 'https://papers.ssrn.com/sol3/papers.cfm?abstract_id=4027238', 'cited': None, 'relatedLink': 'https://scholar.google.com/scholar?q=related:xWqqKM2bJGoJ:scholar.google.com/&scioq=(%22XAI%22+OR+%22explainable+AI%22+OR+%22explainable+artificial+intelligence%22)+AND+(%22image+processing%22+OR+%22image+recognition%22+OR+%22image+classification%22)&hl=en&as_sdt=0,5&as_ylo=2019', 'position': 7, 'numOfVersions': 'All 3 versions', 'publishedData': 'N Şengöz, T Yiğit, Ö Özmen, AH Işık…\\xa0- Available at SSRN\\xa0…, 2022 - papers.ssrn.com', 'snippet': '… Hep-2 cell image classification with deep convolutional neural networks. IEEE Journal of … \\nHep-2 cell image classification with deep convolutional neural networks. IEEE Journal of …'}\n",
            "2022-11-03 13:33:47 [scrapy.core.scraper] DEBUG: Scraped from <200 http://api.scraperapi.com/?api_key=1d60a34e21154245cd8dad9044f66b1d&url=https%3A%2F%2Fscholar.google.com%2Fscholar%3Fq%3D%2528%2522XAI%2522%2BOR%2B%2522explainable%2BAI%2522%2BOR%2B%2522explainable%2Bartificial%2Bintelligence%2522%2529%2BAND%2B%2528%2522image%2Bprocessing%2522%2BOR%2B%2522image%2Brecognition%2522%2BOR%2B%2522image%2Bclassification%2522%2529%26hl%3Den%26as_sdt%3D0%252C5%26as_ylo%3D2019%26as_yhi%3D&country_code=us>\n",
            "{'title_GS': 'A Hybrid Approach to Histopathological Diagnosis of Paratuberculosis in Sheep with Image Classification and Explainable Artificial Intelligence with Grad-CAM', 'link': 'https://papers.ssrn.com/sol3/papers.cfm?abstract_id=4027238', 'cited': None, 'relatedLink': 'https://scholar.google.com/scholar?q=related:xWqqKM2bJGoJ:scholar.google.com/&scioq=(%22XAI%22+OR+%22explainable+AI%22+OR+%22explainable+artificial+intelligence%22)+AND+(%22image+processing%22+OR+%22image+recognition%22+OR+%22image+classification%22)&hl=en&as_sdt=0,5&as_ylo=2019', 'position': 7, 'numOfVersions': 'All 3 versions', 'publishedData': 'N Şengöz, T Yiğit, Ö Özmen, AH Işık…\\xa0- Available at SSRN\\xa0…, 2022 - papers.ssrn.com', 'snippet': '… Hep-2 cell image classification with deep convolutional neural networks. IEEE Journal of … \\nHep-2 cell image classification with deep convolutional neural networks. IEEE Journal of …'}\n",
            "DEBUG:scrapy.core.scraper:Scraped from <200 http://api.scraperapi.com/?api_key=1d60a34e21154245cd8dad9044f66b1d&url=https%3A%2F%2Fscholar.google.com%2Fscholar%3Fq%3D%2528%2522XAI%2522%2BOR%2B%2522explainable%2BAI%2522%2BOR%2B%2522explainable%2Bartificial%2Bintelligence%2522%2529%2BAND%2B%2528%2522image%2Bprocessing%2522%2BOR%2B%2522image%2Brecognition%2522%2BOR%2B%2522image%2Bclassification%2522%2529%26hl%3Den%26as_sdt%3D0%252C5%26as_ylo%3D2019%26as_yhi%3D&country_code=us>\n",
            "{'title_GS': 'Explainable framework for Glaucoma diagnosis by image processing and convolutional neural network synergy: analysis with doctor evaluation', 'link': 'https://www.sciencedirect.com/science/article/pii/S0167739X21004556', 'cited': 'Cited by 11', 'relatedLink': 'https://scholar.google.com/scholar?q=related:WbKEZdDkPPAJ:scholar.google.com/&scioq=(%22XAI%22+OR+%22explainable+AI%22+OR+%22explainable+artificial+intelligence%22)+AND+(%22image+processing%22+OR+%22image+recognition%22+OR+%22image+classification%22)&hl=en&as_sdt=0,5&as_ylo=2019', 'position': 8, 'numOfVersions': 'All 3 versions', 'publishedData': 'O Deperlioglu, U Kose, D Gupta, A Khanna…\\xa0- Future Generation\\xa0…, 2022 - Elsevier', 'snippet': '… XAI includes use of additional mathematical solutions to … of image processing and Explainable \\nArtificial Intelligence (XAI) … to the XAI literature, this study shows an alternative XAI view …'}\n",
            "2022-11-03 13:33:47 [scrapy.core.scraper] DEBUG: Scraped from <200 http://api.scraperapi.com/?api_key=1d60a34e21154245cd8dad9044f66b1d&url=https%3A%2F%2Fscholar.google.com%2Fscholar%3Fq%3D%2528%2522XAI%2522%2BOR%2B%2522explainable%2BAI%2522%2BOR%2B%2522explainable%2Bartificial%2Bintelligence%2522%2529%2BAND%2B%2528%2522image%2Bprocessing%2522%2BOR%2B%2522image%2Brecognition%2522%2BOR%2B%2522image%2Bclassification%2522%2529%26hl%3Den%26as_sdt%3D0%252C5%26as_ylo%3D2019%26as_yhi%3D&country_code=us>\n",
            "{'title_GS': 'Explainable framework for Glaucoma diagnosis by image processing and convolutional neural network synergy: analysis with doctor evaluation', 'link': 'https://www.sciencedirect.com/science/article/pii/S0167739X21004556', 'cited': 'Cited by 11', 'relatedLink': 'https://scholar.google.com/scholar?q=related:WbKEZdDkPPAJ:scholar.google.com/&scioq=(%22XAI%22+OR+%22explainable+AI%22+OR+%22explainable+artificial+intelligence%22)+AND+(%22image+processing%22+OR+%22image+recognition%22+OR+%22image+classification%22)&hl=en&as_sdt=0,5&as_ylo=2019', 'position': 8, 'numOfVersions': 'All 3 versions', 'publishedData': 'O Deperlioglu, U Kose, D Gupta, A Khanna…\\xa0- Future Generation\\xa0…, 2022 - Elsevier', 'snippet': '… XAI includes use of additional mathematical solutions to … of image processing and Explainable \\nArtificial Intelligence (XAI) … to the XAI literature, this study shows an alternative XAI view …'}\n",
            "DEBUG:scrapy.core.scraper:Scraped from <200 http://api.scraperapi.com/?api_key=1d60a34e21154245cd8dad9044f66b1d&url=https%3A%2F%2Fscholar.google.com%2Fscholar%3Fq%3D%2528%2522XAI%2522%2BOR%2B%2522explainable%2BAI%2522%2BOR%2B%2522explainable%2Bartificial%2Bintelligence%2522%2529%2BAND%2B%2528%2522image%2Bprocessing%2522%2BOR%2B%2522image%2Brecognition%2522%2BOR%2B%2522image%2Bclassification%2522%2529%26hl%3Den%26as_sdt%3D0%252C5%26as_ylo%3D2019%26as_yhi%3D&country_code=us>\n",
            "{'title_GS': 'Explainable artificial intelligence for bias detection in covid ct-scan classifiers', 'link': 'https://www.mdpi.com/1239284', 'cited': 'Cited by 8', 'relatedLink': 'https://scholar.google.com/scholar?q=related:Lir_cSVpIb4J:scholar.google.com/&scioq=(%22XAI%22+OR+%22explainable+AI%22+OR+%22explainable+artificial+intelligence%22)+AND+(%22image+processing%22+OR+%22image+recognition%22+OR+%22image+classification%22)&hl=en&as_sdt=0,5&as_ylo=2019', 'position': 9, 'numOfVersions': 'All 13 versions', 'publishedData': 'I Palatnik de Sousa, MMBR Vellasco, E Costa da Silva\\xa0- Sensors, 2021 - mdpi.com', 'snippet': '… To further enrich this comparison, the latest state-of-the-art model for image classification \\nwas included in this study. The EfficientNet family of classifiers [21] optimize the architecture …'}\n",
            "2022-11-03 13:33:47 [scrapy.core.scraper] DEBUG: Scraped from <200 http://api.scraperapi.com/?api_key=1d60a34e21154245cd8dad9044f66b1d&url=https%3A%2F%2Fscholar.google.com%2Fscholar%3Fq%3D%2528%2522XAI%2522%2BOR%2B%2522explainable%2BAI%2522%2BOR%2B%2522explainable%2Bartificial%2Bintelligence%2522%2529%2BAND%2B%2528%2522image%2Bprocessing%2522%2BOR%2B%2522image%2Brecognition%2522%2BOR%2B%2522image%2Bclassification%2522%2529%26hl%3Den%26as_sdt%3D0%252C5%26as_ylo%3D2019%26as_yhi%3D&country_code=us>\n",
            "{'title_GS': 'Explainable artificial intelligence for bias detection in covid ct-scan classifiers', 'link': 'https://www.mdpi.com/1239284', 'cited': 'Cited by 8', 'relatedLink': 'https://scholar.google.com/scholar?q=related:Lir_cSVpIb4J:scholar.google.com/&scioq=(%22XAI%22+OR+%22explainable+AI%22+OR+%22explainable+artificial+intelligence%22)+AND+(%22image+processing%22+OR+%22image+recognition%22+OR+%22image+classification%22)&hl=en&as_sdt=0,5&as_ylo=2019', 'position': 9, 'numOfVersions': 'All 13 versions', 'publishedData': 'I Palatnik de Sousa, MMBR Vellasco, E Costa da Silva\\xa0- Sensors, 2021 - mdpi.com', 'snippet': '… To further enrich this comparison, the latest state-of-the-art model for image classification \\nwas included in this study. The EfficientNet family of classifiers [21] optimize the architecture …'}\n",
            "DEBUG:scrapy.core.scraper:Scraped from <200 http://api.scraperapi.com/?api_key=1d60a34e21154245cd8dad9044f66b1d&url=https%3A%2F%2Fscholar.google.com%2Fscholar%3Fq%3D%2528%2522XAI%2522%2BOR%2B%2522explainable%2BAI%2522%2BOR%2B%2522explainable%2Bartificial%2Bintelligence%2522%2529%2BAND%2B%2528%2522image%2Bprocessing%2522%2BOR%2B%2522image%2Brecognition%2522%2BOR%2B%2522image%2Bclassification%2522%2529%26hl%3Den%26as_sdt%3D0%252C5%26as_ylo%3D2019%26as_yhi%3D&country_code=us>\n",
            "{'title_GS': 'An Assessment of Robustness for Adversarial Attacks and Physical Distortions on Image Classification using Explainable AI.', 'link': 'http://ceur-ws.org/Vol-3125/paper2.pdf', 'cited': 'Cited by 1', 'relatedLink': 'https://scholar.google.com/scholar?q=related:zbeORiPtUZ0J:scholar.google.com/&scioq=(%22XAI%22+OR+%22explainable+AI%22+OR+%22explainable+artificial+intelligence%22)+AND+(%22image+processing%22+OR+%22image+recognition%22+OR+%22image+classification%22)&hl=en&as_sdt=0,5&as_ylo=2019', 'position': 10, 'numOfVersions': 'All 2 versions', 'publishedData': 'KTY Mahima, M Ayoob, G Poravi\\xa0- AI-Cybersec@ SGAI, 2021 - ceur-ws.org', 'snippet': '… domain which is collectively known as Explainable AI. Using a set of Explainable AI techniques, \\nthis study is investigating … Below we summarize the chosen XAI algorithms for this study. …'}\n",
            "2022-11-03 13:33:47 [scrapy.core.scraper] DEBUG: Scraped from <200 http://api.scraperapi.com/?api_key=1d60a34e21154245cd8dad9044f66b1d&url=https%3A%2F%2Fscholar.google.com%2Fscholar%3Fq%3D%2528%2522XAI%2522%2BOR%2B%2522explainable%2BAI%2522%2BOR%2B%2522explainable%2Bartificial%2Bintelligence%2522%2529%2BAND%2B%2528%2522image%2Bprocessing%2522%2BOR%2B%2522image%2Brecognition%2522%2BOR%2B%2522image%2Bclassification%2522%2529%26hl%3Den%26as_sdt%3D0%252C5%26as_ylo%3D2019%26as_yhi%3D&country_code=us>\n",
            "{'title_GS': 'An Assessment of Robustness for Adversarial Attacks and Physical Distortions on Image Classification using Explainable AI.', 'link': 'http://ceur-ws.org/Vol-3125/paper2.pdf', 'cited': 'Cited by 1', 'relatedLink': 'https://scholar.google.com/scholar?q=related:zbeORiPtUZ0J:scholar.google.com/&scioq=(%22XAI%22+OR+%22explainable+AI%22+OR+%22explainable+artificial+intelligence%22)+AND+(%22image+processing%22+OR+%22image+recognition%22+OR+%22image+classification%22)&hl=en&as_sdt=0,5&as_ylo=2019', 'position': 10, 'numOfVersions': 'All 2 versions', 'publishedData': 'KTY Mahima, M Ayoob, G Poravi\\xa0- AI-Cybersec@ SGAI, 2021 - ceur-ws.org', 'snippet': '… domain which is collectively known as Explainable AI. Using a set of Explainable AI techniques, \\nthis study is investigating … Below we summarize the chosen XAI algorithms for this study. …'}\n",
            "INFO:scrapy.extensions.feedexport:Stored json feed (10 items) in: papers_2022-11-03.json\n",
            "2022-11-03 13:33:47 [scrapy.extensions.feedexport] INFO: Stored json feed (10 items) in: papers_2022-11-03.json\n",
            "INFO:scrapy.statscollectors:Dumping Scrapy stats:\n",
            "{'downloader/request_bytes': 658,\n",
            " 'downloader/request_count': 1,\n",
            " 'downloader/request_method_count/GET': 1,\n",
            " 'downloader/response_bytes': 40744,\n",
            " 'downloader/response_count': 1,\n",
            " 'downloader/response_status_count/200': 1,\n",
            " 'elapsed_time_seconds': 1.817706,\n",
            " 'feedexport/success_count/FileFeedStorage': 1,\n",
            " 'finish_reason': 'closespider_itemcount',\n",
            " 'finish_time': datetime.datetime(2022, 11, 3, 13, 33, 47, 287106),\n",
            " 'httpcompression/response_bytes': 167882,\n",
            " 'httpcompression/response_count': 1,\n",
            " 'item_scraped_count': 10,\n",
            " 'log_count/DEBUG': 22,\n",
            " 'log_count/INFO': 11,\n",
            " 'memusage/max': 210927616,\n",
            " 'memusage/startup': 210927616,\n",
            " 'request_depth_max': 1,\n",
            " 'response_received_count': 1,\n",
            " 'scheduler/dequeued': 1,\n",
            " 'scheduler/dequeued/memory': 1,\n",
            " 'scheduler/enqueued': 2,\n",
            " 'scheduler/enqueued/memory': 2,\n",
            " 'start_time': datetime.datetime(2022, 11, 3, 13, 33, 45, 469400)}\n",
            "2022-11-03 13:33:47 [scrapy.statscollectors] INFO: Dumping Scrapy stats:\n",
            "{'downloader/request_bytes': 658,\n",
            " 'downloader/request_count': 1,\n",
            " 'downloader/request_method_count/GET': 1,\n",
            " 'downloader/response_bytes': 40744,\n",
            " 'downloader/response_count': 1,\n",
            " 'downloader/response_status_count/200': 1,\n",
            " 'elapsed_time_seconds': 1.817706,\n",
            " 'feedexport/success_count/FileFeedStorage': 1,\n",
            " 'finish_reason': 'closespider_itemcount',\n",
            " 'finish_time': datetime.datetime(2022, 11, 3, 13, 33, 47, 287106),\n",
            " 'httpcompression/response_bytes': 167882,\n",
            " 'httpcompression/response_count': 1,\n",
            " 'item_scraped_count': 10,\n",
            " 'log_count/DEBUG': 22,\n",
            " 'log_count/INFO': 11,\n",
            " 'memusage/max': 210927616,\n",
            " 'memusage/startup': 210927616,\n",
            " 'request_depth_max': 1,\n",
            " 'response_received_count': 1,\n",
            " 'scheduler/dequeued': 1,\n",
            " 'scheduler/dequeued/memory': 1,\n",
            " 'scheduler/enqueued': 2,\n",
            " 'scheduler/enqueued/memory': 2,\n",
            " 'start_time': datetime.datetime(2022, 11, 3, 13, 33, 45, 469400)}\n",
            "INFO:scrapy.core.engine:Spider closed (closespider_itemcount)\n",
            "2022-11-03 13:33:47 [scrapy.core.engine] INFO: Spider closed (closespider_itemcount)\n"
          ]
        }
      ],
      "source": [
        "if review_status == 'continue_last':\n",
        "    papers_dt = pd.read_json(path_dt+filename_dt+'.json')\n",
        "else:\n",
        "    process = CrawlerProcess(settings={\n",
        "      \"FEEDS\": {\n",
        "          filename_dt+'.json' : {\"format\": \"json\"},\n",
        "        },\n",
        "    })\n",
        "    process.crawl(scholar_spyder)\n",
        "    process.start(stop_after_crawl=True) # the script will block here until the crawling is finished  \n",
        "    papers_dt = pd.read_json(path_dt+filename_dt+'.json')"
      ]
    },
    {
      "cell_type": "markdown",
      "metadata": {
        "id": "WA6W4eR8dt2R"
      },
      "source": [
        "## Exclude papers already reviewd"
      ]
    },
    {
      "cell_type": "code",
      "execution_count": 7,
      "metadata": {
        "id": "mPWVmCV9R9Ij"
      },
      "outputs": [],
      "source": [
        "# Exclude papers already reviewd\n",
        "papers_reviewd_path = root_path+'final_selection/papers_reviewd.csv'\n",
        "\n",
        "if review_status=='new':\n",
        "  papers_unreviewd = papers_dt\n",
        "else:\n",
        "  try:\n",
        "    papers_reviewd = pd.read_csv(papers_reviewd_path)\n",
        "    papers_unreviewd = papers_dt [~papers_dt.title_GS.isin(papers_reviewd.title_GS)] \n",
        "  except:\n",
        "    print('1st reviewd not finished.')\n",
        "    papers_unreviewd = papers_dt"
      ]
    },
    {
      "cell_type": "code",
      "execution_count": 8,
      "metadata": {
        "id": "Od8NlHXr1vES"
      },
      "outputs": [],
      "source": [
        "if papers_unreviewd.shape[0]==0:\n",
        "  print('Dear Researcher, no new papers of your interest.')"
      ]
    },
    {
      "cell_type": "code",
      "execution_count": 9,
      "metadata": {
        "id": "AMis3i2Tro-k"
      },
      "outputs": [],
      "source": [
        "counts = pd.Series(papers_unreviewd.shape[0],index=['Keywords'])"
      ]
    },
    {
      "cell_type": "markdown",
      "metadata": {
        "id": "fvfnyPCVoet4"
      },
      "source": [
        "## **Enrich database**"
      ]
    },
    {
      "cell_type": "code",
      "execution_count": 10,
      "metadata": {
        "id": "wP5JmFRZDej7"
      },
      "outputs": [],
      "source": [
        "def get_bibs(title):\n",
        "  try:\n",
        "    found, bib_string = get_bib_from_title(title,get_first=True)\n",
        "    bib = bibtexparser.loads(bib_string).entries[0]\n",
        "  except: \n",
        "    bib = []\n",
        "  bib = pd.Series(bib)\n",
        "  return bib"
      ]
    },
    {
      "cell_type": "code",
      "execution_count": 11,
      "metadata": {
        "colab": {
          "base_uri": "https://localhost:8080/"
        },
        "id": "YLF9LMZo9pqA",
        "outputId": "5cc2bc64-097b-429e-9de3-db4acbc694c2"
      },
      "outputs": [
        {
          "output_type": "stream",
          "name": "stderr",
          "text": [
            "DEBUG:urllib3.connectionpool:Starting new HTTP connection (1): api.crossref.org:80\n",
            "DEBUG:urllib3.connectionpool:Starting new HTTP connection (1): api.crossref.org:80\n",
            "DEBUG:urllib3.connectionpool:Starting new HTTP connection (1): api.crossref.org:80\n",
            "DEBUG:urllib3.connectionpool:Starting new HTTP connection (1): api.crossref.org:80\n",
            "2022-11-03 13:33:47 [urllib3.connectionpool] DEBUG: Starting new HTTP connection (1): api.crossref.org:80\n",
            "DEBUG:urllib3.connectionpool:Starting new HTTP connection (1): api.crossref.org:80\n",
            "DEBUG:urllib3.connectionpool:Starting new HTTP connection (1): api.crossref.org:80\n",
            "DEBUG:urllib3.connectionpool:Starting new HTTP connection (1): api.crossref.org:80\n",
            "DEBUG:urllib3.connectionpool:Starting new HTTP connection (1): api.crossref.org:80\n",
            "DEBUG:urllib3.connectionpool:Starting new HTTP connection (1): api.crossref.org:80\n",
            "DEBUG:urllib3.connectionpool:Starting new HTTP connection (1): api.crossref.org:80\n",
            "2022-11-03 13:33:47 [urllib3.connectionpool] DEBUG: Starting new HTTP connection (1): api.crossref.org:80\n",
            "2022-11-03 13:33:47 [urllib3.connectionpool] DEBUG: Starting new HTTP connection (1): api.crossref.org:80\n",
            "2022-11-03 13:33:47 [urllib3.connectionpool] DEBUG: Starting new HTTP connection (1): api.crossref.org:80\n",
            "2022-11-03 13:33:47 [urllib3.connectionpool] DEBUG: Starting new HTTP connection (1): api.crossref.org:80\n",
            "2022-11-03 13:33:47 [urllib3.connectionpool] DEBUG: Starting new HTTP connection (1): api.crossref.org:80\n",
            "2022-11-03 13:33:47 [urllib3.connectionpool] DEBUG: Starting new HTTP connection (1): api.crossref.org:80\n",
            "2022-11-03 13:33:47 [urllib3.connectionpool] DEBUG: Starting new HTTP connection (1): api.crossref.org:80\n",
            "2022-11-03 13:33:47 [urllib3.connectionpool] DEBUG: Starting new HTTP connection (1): api.crossref.org:80\n",
            "2022-11-03 13:33:47 [urllib3.connectionpool] DEBUG: Starting new HTTP connection (1): api.crossref.org:80\n",
            "DEBUG:urllib3.connectionpool:http://api.crossref.org:80 \"GET /works?query.bibliographic=Neuroscope%3A+An+explainable+ai+toolbox+for+semantic+segmentation+and+image+classification+of+convolutional+neural+nets&rows=20 HTTP/1.1\" 200 None\n",
            "2022-11-03 13:33:51 [urllib3.connectionpool] DEBUG: http://api.crossref.org:80 \"GET /works?query.bibliographic=Neuroscope%3A+An+explainable+ai+toolbox+for+semantic+segmentation+and+image+classification+of+convolutional+neural+nets&rows=20 HTTP/1.1\" 200 None\n",
            "DEBUG:urllib3.connectionpool:Starting new HTTP connection (1): api.crossref.org:80\n",
            "2022-11-03 13:33:51 [urllib3.connectionpool] DEBUG: Starting new HTTP connection (1): api.crossref.org:80\n",
            "DEBUG:urllib3.connectionpool:http://api.crossref.org:80 \"GET /works/10.3390/app11052199/transform/application/x-bibtex HTTP/1.1\" 200 None\n",
            "2022-11-03 13:33:51 [urllib3.connectionpool] DEBUG: http://api.crossref.org:80 \"GET /works/10.3390/app11052199/transform/application/x-bibtex HTTP/1.1\" 200 None\n",
            "DEBUG:urllib3.connectionpool:Starting new HTTP connection (1): api.crossref.org:80\n",
            "2022-11-03 13:33:51 [urllib3.connectionpool] DEBUG: Starting new HTTP connection (1): api.crossref.org:80\n",
            "DEBUG:urllib3.connectionpool:http://api.crossref.org:80 \"GET /works/10.3390/app11052199 HTTP/1.1\" 200 2558\n",
            "2022-11-03 13:33:52 [urllib3.connectionpool] DEBUG: http://api.crossref.org:80 \"GET /works/10.3390/app11052199 HTTP/1.1\" 200 2558\n",
            "DEBUG:bibtexparser.bparser:Found Entry: ['article', 'Schorr_2021', {'journal': 'Applied Sciences', 'title': 'Neuroscope: An Explainable {AI} Toolbox for Semantic Segmentation and Image Classification of Convolutional Neural Nets', 'author': 'Christian Schorr and Payman Goodarzi and Fei Chen and Tim Dahmen', 'pages': '2199', 'number': '5', 'volume': '11', 'publisher': '{MDPI} {AG}', 'month': 'mar', 'year': '2021', 'url': 'https://doi.org/10.3390%2Fapp11052199', 'doi': '10.3390/app11052199'}]\n",
            "2022-11-03 13:33:52 [bibtexparser.bparser] DEBUG: Found Entry: ['article', 'Schorr_2021', {'journal': 'Applied Sciences', 'title': 'Neuroscope: An Explainable {AI} Toolbox for Semantic Segmentation and Image Classification of Convolutional Neural Nets', 'author': 'Christian Schorr and Payman Goodarzi and Fei Chen and Tim Dahmen', 'pages': '2199', 'number': '5', 'volume': '11', 'publisher': '{MDPI} {AG}', 'month': 'mar', 'year': '2021', 'url': 'https://doi.org/10.3390%2Fapp11052199', 'doi': '10.3390/app11052199'}]\n",
            "DEBUG:urllib3.connectionpool:http://api.crossref.org:80 \"GET /works?query.bibliographic=User-Centric+Enhancements+to+Explainable+AI+Algorithms+for+Image+Classification&rows=20 HTTP/1.1\" 200 None\n",
            "2022-11-03 13:33:52 [urllib3.connectionpool] DEBUG: http://api.crossref.org:80 \"GET /works?query.bibliographic=User-Centric+Enhancements+to+Explainable+AI+Algorithms+for+Image+Classification&rows=20 HTTP/1.1\" 200 None\n",
            "DEBUG:urllib3.connectionpool:Starting new HTTP connection (1): api.crossref.org:80\n",
            "2022-11-03 13:33:52 [urllib3.connectionpool] DEBUG: Starting new HTTP connection (1): api.crossref.org:80\n",
            "DEBUG:urllib3.connectionpool:http://api.crossref.org:80 \"GET /works/10.36227/techrxiv.19310489.v1/transform/application/x-bibtex HTTP/1.1\" 200 None\n",
            "2022-11-03 13:33:53 [urllib3.connectionpool] DEBUG: http://api.crossref.org:80 \"GET /works/10.36227/techrxiv.19310489.v1/transform/application/x-bibtex HTTP/1.1\" 200 None\n",
            "DEBUG:urllib3.connectionpool:Starting new HTTP connection (1): api.crossref.org:80\n",
            "2022-11-03 13:33:53 [urllib3.connectionpool] DEBUG: Starting new HTTP connection (1): api.crossref.org:80\n",
            "DEBUG:urllib3.connectionpool:http://api.crossref.org:80 \"GET /works/10.36227/techrxiv.19310489.v1 HTTP/1.1\" 200 942\n",
            "2022-11-03 13:33:53 [urllib3.connectionpool] DEBUG: http://api.crossref.org:80 \"GET /works/10.36227/techrxiv.19310489.v1 HTTP/1.1\" 200 942\n",
            "DEBUG:bibtexparser.bparser:Found Entry: ['article', '__2022', {'title': '{DocXClassifier}: High Performance Explainable Deep Network for Document Image Classification', 'author': 'Saifullah .', 'publisher': 'Institute of Electrical and Electronics Engineers ({IEEE})', 'month': 'mar', 'year': '2022', 'url': 'https://doi.org/10.36227%2Ftechrxiv.19310489.v1', 'doi': '10.36227/techrxiv.19310489.v1'}]\n",
            "2022-11-03 13:33:53 [bibtexparser.bparser] DEBUG: Found Entry: ['article', '__2022', {'title': '{DocXClassifier}: High Performance Explainable Deep Network for Document Image Classification', 'author': 'Saifullah .', 'publisher': 'Institute of Electrical and Electronics Engineers ({IEEE})', 'month': 'mar', 'year': '2022', 'url': 'https://doi.org/10.36227%2Ftechrxiv.19310489.v1', 'doi': '10.36227/techrxiv.19310489.v1'}]\n",
            "DEBUG:urllib3.connectionpool:http://api.crossref.org:80 \"GET /works?query.bibliographic=Explainable+framework+for+Glaucoma+diagnosis+by+image+processing+and+convolutional+neural+network+synergy%3A+analysis+with+doctor+evaluation&rows=20 HTTP/1.1\" 200 None\n",
            "2022-11-03 13:33:54 [urllib3.connectionpool] DEBUG: http://api.crossref.org:80 \"GET /works?query.bibliographic=Explainable+framework+for+Glaucoma+diagnosis+by+image+processing+and+convolutional+neural+network+synergy%3A+analysis+with+doctor+evaluation&rows=20 HTTP/1.1\" 200 None\n",
            "DEBUG:urllib3.connectionpool:Starting new HTTP connection (1): api.crossref.org:80\n",
            "2022-11-03 13:33:54 [urllib3.connectionpool] DEBUG: Starting new HTTP connection (1): api.crossref.org:80\n",
            "DEBUG:urllib3.connectionpool:http://api.crossref.org:80 \"GET /works/10.1016/j.future.2021.11.018/transform/application/x-bibtex HTTP/1.1\" 200 None\n",
            "2022-11-03 13:33:55 [urllib3.connectionpool] DEBUG: http://api.crossref.org:80 \"GET /works/10.1016/j.future.2021.11.018/transform/application/x-bibtex HTTP/1.1\" 200 None\n",
            "DEBUG:urllib3.connectionpool:Starting new HTTP connection (1): api.crossref.org:80\n",
            "2022-11-03 13:33:55 [urllib3.connectionpool] DEBUG: Starting new HTTP connection (1): api.crossref.org:80\n",
            "DEBUG:urllib3.connectionpool:http://api.crossref.org:80 \"GET /works/10.1016/j.future.2021.11.018 HTTP/1.1\" 200 6074\n",
            "2022-11-03 13:33:55 [urllib3.connectionpool] DEBUG: http://api.crossref.org:80 \"GET /works/10.1016/j.future.2021.11.018 HTTP/1.1\" 200 6074\n",
            "DEBUG:bibtexparser.bparser:Found Entry: ['article', 'Deperlioglu_2022', {'journal': 'Future Generation Computer Systems', 'title': 'Explainable framework for Glaucoma diagnosis by image processing and convolutional neural network synergy: Analysis with doctor evaluation', 'author': 'Omer Deperlioglu and Utku Kose and Deepak Gupta and Ashish Khanna and Fabio Giampaolo and Giancarlo Fortino', 'pages': '152--169', 'volume': '129', 'publisher': 'Elsevier {BV}', 'month': 'apr', 'year': '2022', 'url': 'https://doi.org/10.1016%2Fj.future.2021.11.018', 'doi': '10.1016/j.future.2021.11.018'}]\n",
            "2022-11-03 13:33:55 [bibtexparser.bparser] DEBUG: Found Entry: ['article', 'Deperlioglu_2022', {'journal': 'Future Generation Computer Systems', 'title': 'Explainable framework for Glaucoma diagnosis by image processing and convolutional neural network synergy: Analysis with doctor evaluation', 'author': 'Omer Deperlioglu and Utku Kose and Deepak Gupta and Ashish Khanna and Fabio Giampaolo and Giancarlo Fortino', 'pages': '152--169', 'volume': '129', 'publisher': 'Elsevier {BV}', 'month': 'apr', 'year': '2022', 'url': 'https://doi.org/10.1016%2Fj.future.2021.11.018', 'doi': '10.1016/j.future.2021.11.018'}]\n",
            "DEBUG:urllib3.connectionpool:http://api.crossref.org:80 \"GET /works?query.bibliographic=Getting+playful+with+explainable+AI%3A+games+with+a+purpose+to+improve+human+understanding+of+AI&rows=20 HTTP/1.1\" 200 None\n",
            "2022-11-03 13:33:56 [urllib3.connectionpool] DEBUG: http://api.crossref.org:80 \"GET /works?query.bibliographic=Getting+playful+with+explainable+AI%3A+games+with+a+purpose+to+improve+human+understanding+of+AI&rows=20 HTTP/1.1\" 200 None\n",
            "DEBUG:urllib3.connectionpool:http://api.crossref.org:80 \"GET /works?query.bibliographic=An+Assessment+of+Robustness+for+Adversarial+Attacks+and+Physical+Distortions+on+Image+Classification+using+Explainable+AI.&rows=20 HTTP/1.1\" 200 18049\n",
            "2022-11-03 13:33:56 [urllib3.connectionpool] DEBUG: http://api.crossref.org:80 \"GET /works?query.bibliographic=An+Assessment+of+Robustness+for+Adversarial+Attacks+and+Physical+Distortions+on+Image+Classification+using+Explainable+AI.&rows=20 HTTP/1.1\" 200 18049\n",
            "DEBUG:urllib3.connectionpool:Starting new HTTP connection (1): api.crossref.org:80\n",
            "2022-11-03 13:33:56 [urllib3.connectionpool] DEBUG: Starting new HTTP connection (1): api.crossref.org:80\n",
            "DEBUG:urllib3.connectionpool:Starting new HTTP connection (1): api.crossref.org:80\n",
            "2022-11-03 13:33:56 [urllib3.connectionpool] DEBUG: Starting new HTTP connection (1): api.crossref.org:80\n",
            "DEBUG:urllib3.connectionpool:http://api.crossref.org:80 \"GET /works?query.bibliographic=Explainable+artificial+intelligence+for+developing+smart+cities+solutions&rows=20 HTTP/1.1\" 200 18257\n",
            "2022-11-03 13:33:56 [urllib3.connectionpool] DEBUG: http://api.crossref.org:80 \"GET /works?query.bibliographic=Explainable+artificial+intelligence+for+developing+smart+cities+solutions&rows=20 HTTP/1.1\" 200 18257\n",
            "DEBUG:urllib3.connectionpool:http://api.crossref.org:80 \"GET /works/10.33682/sp9n-qk06/transform/application/x-bibtex HTTP/1.1\" 200 None\n",
            "2022-11-03 13:33:56 [urllib3.connectionpool] DEBUG: http://api.crossref.org:80 \"GET /works/10.33682/sp9n-qk06/transform/application/x-bibtex HTTP/1.1\" 200 None\n",
            "DEBUG:urllib3.connectionpool:http://api.crossref.org:80 \"GET /works/10.1145/3334480.3382831/transform/application/x-bibtex HTTP/1.1\" 200 None\n",
            "2022-11-03 13:33:56 [urllib3.connectionpool] DEBUG: http://api.crossref.org:80 \"GET /works/10.1145/3334480.3382831/transform/application/x-bibtex HTTP/1.1\" 200 None\n",
            "DEBUG:urllib3.connectionpool:Starting new HTTP connection (1): api.crossref.org:80\n",
            "2022-11-03 13:33:56 [urllib3.connectionpool] DEBUG: Starting new HTTP connection (1): api.crossref.org:80\n",
            "DEBUG:urllib3.connectionpool:Starting new HTTP connection (1): api.crossref.org:80\n",
            "DEBUG:urllib3.connectionpool:Starting new HTTP connection (1): api.crossref.org:80\n",
            "2022-11-03 13:33:56 [urllib3.connectionpool] DEBUG: Starting new HTTP connection (1): api.crossref.org:80\n",
            "2022-11-03 13:33:56 [urllib3.connectionpool] DEBUG: Starting new HTTP connection (1): api.crossref.org:80\n",
            "DEBUG:urllib3.connectionpool:http://api.crossref.org:80 \"GET /works/10.3390/smartcities3040065/transform/application/x-bibtex HTTP/1.1\" 200 None\n",
            "DEBUG:urllib3.connectionpool:http://api.crossref.org:80 \"GET /works/10.1145/3334480.3382831 HTTP/1.1\" 200 3213\n",
            "2022-11-03 13:33:56 [urllib3.connectionpool] DEBUG: http://api.crossref.org:80 \"GET /works/10.1145/3334480.3382831 HTTP/1.1\" 200 3213\n",
            "2022-11-03 13:33:56 [urllib3.connectionpool] DEBUG: http://api.crossref.org:80 \"GET /works/10.3390/smartcities3040065/transform/application/x-bibtex HTTP/1.1\" 200 None\n",
            "DEBUG:urllib3.connectionpool:Starting new HTTP connection (1): api.crossref.org:80\n",
            "DEBUG:urllib3.connectionpool:http://api.crossref.org:80 \"GET /works/10.33682/sp9n-qk06 HTTP/1.1\" 200 767\n",
            "2022-11-03 13:33:56 [urllib3.connectionpool] DEBUG: Starting new HTTP connection (1): api.crossref.org:80\n",
            "2022-11-03 13:33:56 [urllib3.connectionpool] DEBUG: http://api.crossref.org:80 \"GET /works/10.33682/sp9n-qk06 HTTP/1.1\" 200 767\n",
            "DEBUG:bibtexparser.bparser:Found Entry: ['inproceedings', 'Fulton_2020', {'booktitle': 'Extended Abstracts of the 2020 {CHI} Conference on Human Factors in Computing Systems', 'title': 'Getting Playful with Explainable {AI}: Games with a Purpose to Improve Human Understanding of {AI}', 'author': 'Laura Beth Fulton and Ja Young Lee and Qian Wang and Zhendong Yuan and Jessica Hammer and Adam Perer', 'publisher': '{ACM}', 'month': 'apr', 'year': '2020', 'url': 'https://doi.org/10.1145%2F3334480.3382831', 'doi': '10.1145/3334480.3382831'}]\n",
            "2022-11-03 13:33:56 [bibtexparser.bparser] DEBUG: Found Entry: ['inproceedings', 'Fulton_2020', {'booktitle': 'Extended Abstracts of the 2020 {CHI} Conference on Human Factors in Computing Systems', 'title': 'Getting Playful with Explainable {AI}: Games with a Purpose to Improve Human Understanding of {AI}', 'author': 'Laura Beth Fulton and Ja Young Lee and Qian Wang and Zhendong Yuan and Jessica Hammer and Adam Perer', 'publisher': '{ACM}', 'month': 'apr', 'year': '2020', 'url': 'https://doi.org/10.1145%2F3334480.3382831', 'doi': '10.1145/3334480.3382831'}]\n",
            "DEBUG:bibtexparser.bparser:Found Entry: ['inproceedings', 'Subramanian_2019', {'booktitle': 'Proceedings of the Detection and Classification of Acoustic Scenes and\\nEvents 2019 Workshop ({DCASE}2019)', 'title': 'Robustness of Adversarial Attacks in Sound Event Classification', 'author': 'Vinod Subramanian and Emmanouil Benetos and Mark B. Sandler', 'publisher': 'New York University', 'year': '2019', 'url': 'https://doi.org/10.33682%2Fsp9n-qk06', 'doi': '10.33682/sp9n-qk06'}]\n",
            "2022-11-03 13:33:56 [bibtexparser.bparser] DEBUG: Found Entry: ['inproceedings', 'Subramanian_2019', {'booktitle': 'Proceedings of the Detection and Classification of Acoustic Scenes and\\nEvents 2019 Workshop ({DCASE}2019)', 'title': 'Robustness of Adversarial Attacks in Sound Event Classification', 'author': 'Vinod Subramanian and Emmanouil Benetos and Mark B. Sandler', 'publisher': 'New York University', 'year': '2019', 'url': 'https://doi.org/10.33682%2Fsp9n-qk06', 'doi': '10.33682/sp9n-qk06'}]\n",
            "DEBUG:urllib3.connectionpool:http://api.crossref.org:80 \"GET /works/10.3390/smartcities3040065 HTTP/1.1\" 200 5387\n",
            "2022-11-03 13:33:56 [urllib3.connectionpool] DEBUG: http://api.crossref.org:80 \"GET /works/10.3390/smartcities3040065 HTTP/1.1\" 200 5387\n",
            "DEBUG:urllib3.connectionpool:http://api.crossref.org:80 \"GET /works?query.bibliographic=Explainable+artificial+intelligence+for+bias+detection+in+covid+ct-scan+classifiers&rows=20 HTTP/1.1\" 200 None\n",
            "2022-11-03 13:33:56 [urllib3.connectionpool] DEBUG: http://api.crossref.org:80 \"GET /works?query.bibliographic=Explainable+artificial+intelligence+for+bias+detection+in+covid+ct-scan+classifiers&rows=20 HTTP/1.1\" 200 None\n",
            "DEBUG:bibtexparser.bparser:Found Entry: ['article', 'Thakker_2020', {'journal': 'Smart Cities', 'title': 'Explainable Artificial Intelligence for Developing Smart Cities Solutions', 'author': 'Dhavalkumar Thakker and Bhupesh Kumar Mishra and Amr Abdullatif and Suvodeep Mazumdar and Sydney Simpson', 'pages': '1353--1382', 'number': '4', 'volume': '3', 'publisher': '{MDPI} {AG}', 'month': 'nov', 'year': '2020', 'url': 'https://doi.org/10.3390%2Fsmartcities3040065', 'doi': '10.3390/smartcities3040065'}]\n",
            "2022-11-03 13:33:56 [bibtexparser.bparser] DEBUG: Found Entry: ['article', 'Thakker_2020', {'journal': 'Smart Cities', 'title': 'Explainable Artificial Intelligence for Developing Smart Cities Solutions', 'author': 'Dhavalkumar Thakker and Bhupesh Kumar Mishra and Amr Abdullatif and Suvodeep Mazumdar and Sydney Simpson', 'pages': '1353--1382', 'number': '4', 'volume': '3', 'publisher': '{MDPI} {AG}', 'month': 'nov', 'year': '2020', 'url': 'https://doi.org/10.3390%2Fsmartcities3040065', 'doi': '10.3390/smartcities3040065'}]\n",
            "DEBUG:urllib3.connectionpool:http://api.crossref.org:80 \"GET /works?query.bibliographic=A+Hybrid+Approach+to+Histopathological+Diagnosis+of+Paratuberculosis+in+Sheep+with+Image+Classification+and+Explainable+Artificial+Intelligence+with+Grad-CAM&rows=20 HTTP/1.1\" 200 None\n",
            "2022-11-03 13:33:56 [urllib3.connectionpool] DEBUG: http://api.crossref.org:80 \"GET /works?query.bibliographic=A+Hybrid+Approach+to+Histopathological+Diagnosis+of+Paratuberculosis+in+Sheep+with+Image+Classification+and+Explainable+Artificial+Intelligence+with+Grad-CAM&rows=20 HTTP/1.1\" 200 None\n",
            "DEBUG:urllib3.connectionpool:Starting new HTTP connection (1): api.crossref.org:80\n",
            "2022-11-03 13:33:56 [urllib3.connectionpool] DEBUG: Starting new HTTP connection (1): api.crossref.org:80\n",
            "DEBUG:urllib3.connectionpool:Starting new HTTP connection (1): api.crossref.org:80\n",
            "2022-11-03 13:33:56 [urllib3.connectionpool] DEBUG: Starting new HTTP connection (1): api.crossref.org:80\n",
            "DEBUG:urllib3.connectionpool:http://api.crossref.org:80 \"GET /works/10.3390/s21165657/transform/application/x-bibtex HTTP/1.1\" 200 None\n",
            "2022-11-03 13:33:56 [urllib3.connectionpool] DEBUG: http://api.crossref.org:80 \"GET /works/10.3390/s21165657/transform/application/x-bibtex HTTP/1.1\" 200 None\n",
            "DEBUG:urllib3.connectionpool:Starting new HTTP connection (1): api.crossref.org:80\n",
            "DEBUG:urllib3.connectionpool:http://api.crossref.org:80 \"GET /works?query.bibliographic=A+Novel+Explainable+Artificial+Intelligence+Model+in+Image+Classification+problem&rows=20 HTTP/1.1\" 200 None\n",
            "2022-11-03 13:33:56 [urllib3.connectionpool] DEBUG: Starting new HTTP connection (1): api.crossref.org:80\n",
            "2022-11-03 13:33:56 [urllib3.connectionpool] DEBUG: http://api.crossref.org:80 \"GET /works?query.bibliographic=A+Novel+Explainable+Artificial+Intelligence+Model+in+Image+Classification+problem&rows=20 HTTP/1.1\" 200 None\n",
            "DEBUG:urllib3.connectionpool:http://api.crossref.org:80 \"GET /works/10.21203/rs.3.rs-1318739/v1/transform/application/x-bibtex HTTP/1.1\" 200 None\n",
            "2022-11-03 13:33:56 [urllib3.connectionpool] DEBUG: http://api.crossref.org:80 \"GET /works/10.21203/rs.3.rs-1318739/v1/transform/application/x-bibtex HTTP/1.1\" 200 None\n",
            "DEBUG:urllib3.connectionpool:Starting new HTTP connection (1): api.crossref.org:80\n",
            "2022-11-03 13:33:56 [urllib3.connectionpool] DEBUG: Starting new HTTP connection (1): api.crossref.org:80\n",
            "DEBUG:urllib3.connectionpool:Starting new HTTP connection (1): api.crossref.org:80\n",
            "2022-11-03 13:33:56 [urllib3.connectionpool] DEBUG: Starting new HTTP connection (1): api.crossref.org:80\n",
            "DEBUG:urllib3.connectionpool:http://api.crossref.org:80 \"GET /works/10.3390/s21165657 HTTP/1.1\" 200 2804\n",
            "2022-11-03 13:33:57 [urllib3.connectionpool] DEBUG: http://api.crossref.org:80 \"GET /works/10.3390/s21165657 HTTP/1.1\" 200 2804\n",
            "DEBUG:bibtexparser.bparser:Found Entry: ['article', 'Palatnik_de_Sousa_2021', {'journal': 'Sensors', 'title': 'Explainable Artificial Intelligence for Bias Detection in {COVID} {CT}-Scan Classifiers', 'author': 'Iam Palatnik de Sousa and Marley M. B. R. Vellasco and Eduardo Costa da Silva', 'pages': '5657', 'number': '16', 'volume': '21', 'publisher': '{MDPI} {AG}', 'month': 'aug', 'year': '2021', 'url': 'https://doi.org/10.3390%2Fs21165657', 'doi': '10.3390/s21165657'}]\n",
            "2022-11-03 13:33:57 [bibtexparser.bparser] DEBUG: Found Entry: ['article', 'Palatnik_de_Sousa_2021', {'journal': 'Sensors', 'title': 'Explainable Artificial Intelligence for Bias Detection in {COVID} {CT}-Scan Classifiers', 'author': 'Iam Palatnik de Sousa and Marley M. B. R. Vellasco and Eduardo Costa da Silva', 'pages': '5657', 'number': '16', 'volume': '21', 'publisher': '{MDPI} {AG}', 'month': 'aug', 'year': '2021', 'url': 'https://doi.org/10.3390%2Fs21165657', 'doi': '10.3390/s21165657'}]\n",
            "DEBUG:urllib3.connectionpool:http://api.crossref.org:80 \"GET /works/10.21203/rs.3.rs-1318739/v1 HTTP/1.1\" 200 1781\n",
            "2022-11-03 13:33:57 [urllib3.connectionpool] DEBUG: http://api.crossref.org:80 \"GET /works/10.21203/rs.3.rs-1318739/v1 HTTP/1.1\" 200 1781\n",
            "DEBUG:urllib3.connectionpool:http://api.crossref.org:80 \"GET /works/10.33140/amlai.03.01.01/transform/application/x-bibtex HTTP/1.1\" 200 None\n",
            "2022-11-03 13:33:57 [urllib3.connectionpool] DEBUG: http://api.crossref.org:80 \"GET /works/10.33140/amlai.03.01.01/transform/application/x-bibtex HTTP/1.1\" 200 None\n",
            "DEBUG:urllib3.connectionpool:Starting new HTTP connection (1): api.crossref.org:80\n",
            "2022-11-03 13:33:57 [urllib3.connectionpool] DEBUG: Starting new HTTP connection (1): api.crossref.org:80\n",
            "DEBUG:bibtexparser.bparser:Found Entry: ['article', '_eng_z_2022', {'title': 'A Hybrid Approach to Histopathological Diagnosis of Paratuberculosis in Sheep with Image Classification and Explainable Artificial Intelligence with Grad-{CAM}', 'author': 'Nilgün {\\\\c{S}}engöz and Tuncay Yi{\\\\u{g}}it and Özlem Özmen and Ali Hakan I{\\\\c{s}}{\\\\i}k and Jude Hemanth', 'publisher': 'Research Square Platform {LLC}', 'month': 'feb', 'year': '2022', 'url': 'https://doi.org/10.21203%2Frs.3.rs-1318739%2Fv1', 'doi': '10.21203/rs.3.rs-1318739/v1'}]\n",
            "2022-11-03 13:33:57 [bibtexparser.bparser] DEBUG: Found Entry: ['article', '_eng_z_2022', {'title': 'A Hybrid Approach to Histopathological Diagnosis of Paratuberculosis in Sheep with Image Classification and Explainable Artificial Intelligence with Grad-{CAM}', 'author': 'Nilgün {\\\\c{S}}engöz and Tuncay Yi{\\\\u{g}}it and Özlem Özmen and Ali Hakan I{\\\\c{s}}{\\\\i}k and Jude Hemanth', 'publisher': 'Research Square Platform {LLC}', 'month': 'feb', 'year': '2022', 'url': 'https://doi.org/10.21203%2Frs.3.rs-1318739%2Fv1', 'doi': '10.21203/rs.3.rs-1318739/v1'}]\n",
            "DEBUG:urllib3.connectionpool:http://api.crossref.org:80 \"GET /works/10.33140/amlai.03.01.01 HTTP/1.1\" 200 1304\n",
            "2022-11-03 13:33:57 [urllib3.connectionpool] DEBUG: http://api.crossref.org:80 \"GET /works/10.33140/amlai.03.01.01 HTTP/1.1\" 200 1304\n",
            "DEBUG:bibtexparser.bparser:Found ImplicitComment: ['@article{2022,\\n        doi = {10.33140/amlai.03.01.01},\\n        url = {https://doi.org/10.33140%2Famlai.03.01.01},\\n        year = 2022,\\n        month = {jan},\\n        publisher = {Opast Group {LLC}},\\n        volume = {3},\\n        number = {1},\\n        title = {A Novel Approach to Adopt Explainable Artificial Intelligence in X-ray Image Classification},\\n        journal = {AMLAI}amp$\\\\mathsemicolon$ Artificial Intelligence}\\n}']\n",
            "2022-11-03 13:33:57 [bibtexparser.bparser] DEBUG: Found ImplicitComment: ['@article{2022,\\n        doi = {10.33140/amlai.03.01.01},\\n        url = {https://doi.org/10.33140%2Famlai.03.01.01},\\n        year = 2022,\\n        month = {jan},\\n        publisher = {Opast Group {LLC}},\\n        volume = {3},\\n        number = {1},\\n        title = {A Novel Approach to Adopt Explainable Artificial Intelligence in X-ray Image Classification},\\n        journal = {AMLAI}amp$\\\\mathsemicolon$ Artificial Intelligence}\\n}']\n",
            "DEBUG:bibtexparser.bparser:Store comment in list of comments: '@article{2022,\\n        doi = {10.33140/amlai.03.01.01},\\n        url = {https://doi.org/10.33140%2Famlai.03.01.01},\\n        year = 2022,\\n        month = {jan},\\n        publisher = {Opast Group {LLC}},\\n        volume = {3},\\n        number = {1},\\n        title = {A Novel Approach to Adopt Explainable Artificial Intelligence in X-ray Image Classification},\\n        journal = {AMLAI}amp$\\\\mathsemicolon$ Artificial Intelligence}\\n}'\n",
            "2022-11-03 13:33:57 [bibtexparser.bparser] DEBUG: Store comment in list of comments: '@article{2022,\\n        doi = {10.33140/amlai.03.01.01},\\n        url = {https://doi.org/10.33140%2Famlai.03.01.01},\\n        year = 2022,\\n        month = {jan},\\n        publisher = {Opast Group {LLC}},\\n        volume = {3},\\n        number = {1},\\n        title = {A Novel Approach to Adopt Explainable Artificial Intelligence in X-ray Image Classification},\\n        journal = {AMLAI}amp$\\\\mathsemicolon$ Artificial Intelligence}\\n}'\n",
            "/usr/local/lib/python3.7/dist-packages/ipykernel_launcher.py:7: DeprecationWarning: The default dtype for empty Series will be 'object' instead of 'float64' in a future version. Specify a dtype explicitly to silence this warning.\n",
            "  import sys\n",
            "DEBUG:urllib3.connectionpool:http://api.crossref.org:80 \"GET /works?query.bibliographic=Malaria+cell+image+classification+by+explainable+artificial+intelligence&rows=20 HTTP/1.1\" 200 None\n",
            "2022-11-03 13:33:58 [urllib3.connectionpool] DEBUG: http://api.crossref.org:80 \"GET /works?query.bibliographic=Malaria+cell+image+classification+by+explainable+artificial+intelligence&rows=20 HTTP/1.1\" 200 None\n",
            "DEBUG:urllib3.connectionpool:Starting new HTTP connection (1): api.crossref.org:80\n",
            "2022-11-03 13:33:58 [urllib3.connectionpool] DEBUG: Starting new HTTP connection (1): api.crossref.org:80\n",
            "DEBUG:urllib3.connectionpool:http://api.crossref.org:80 \"GET /works/10.1007/s12553-021-00620-z/transform/application/x-bibtex HTTP/1.1\" 200 None\n",
            "2022-11-03 13:33:58 [urllib3.connectionpool] DEBUG: http://api.crossref.org:80 \"GET /works/10.1007/s12553-021-00620-z/transform/application/x-bibtex HTTP/1.1\" 200 None\n",
            "DEBUG:urllib3.connectionpool:Starting new HTTP connection (1): api.crossref.org:80\n",
            "2022-11-03 13:33:58 [urllib3.connectionpool] DEBUG: Starting new HTTP connection (1): api.crossref.org:80\n",
            "DEBUG:urllib3.connectionpool:http://api.crossref.org:80 \"GET /works/10.1007/s12553-021-00620-z HTTP/1.1\" 200 7020\n",
            "2022-11-03 13:33:58 [urllib3.connectionpool] DEBUG: http://api.crossref.org:80 \"GET /works/10.1007/s12553-021-00620-z HTTP/1.1\" 200 7020\n",
            "DEBUG:bibtexparser.bparser:Found Entry: ['article', 'Raihan_2021', {'journal': 'Health Technol.', 'title': 'Malaria cell image classification by explainable artificial intelligence', 'author': 'Md. Johir Raihan and Abdullah-Al Nahid', 'pages': '47--58', 'number': '1', 'volume': '12', 'publisher': 'Springer Science and Business Media {LLC}', 'month': 'nov', 'year': '2021', 'url': 'https://doi.org/10.1007%2Fs12553-021-00620-z', 'doi': '10.1007/s12553-021-00620-z'}]\n",
            "2022-11-03 13:33:58 [bibtexparser.bparser] DEBUG: Found Entry: ['article', 'Raihan_2021', {'journal': 'Health Technol.', 'title': 'Malaria cell image classification by explainable artificial intelligence', 'author': 'Md. Johir Raihan and Abdullah-Al Nahid', 'pages': '47--58', 'number': '1', 'volume': '12', 'publisher': 'Springer Science and Business Media {LLC}', 'month': 'nov', 'year': '2021', 'url': 'https://doi.org/10.1007%2Fs12553-021-00620-z', 'doi': '10.1007/s12553-021-00620-z'}]\n"
          ]
        }
      ],
      "source": [
        "if papers_unreviewd.shape[0]>0:\n",
        "  pool = Pool()\n",
        "  bibs_data = pool.map(get_bibs,list(papers_unreviewd.title_GS))\n",
        "  bibs_data = pd.concat(bibs_data,axis=1).fillna('Not founded')\n",
        "  papers_unreviewd = papers_unreviewd.reset_index(drop=True)\n",
        "  papers_unreviewd = pd.concat([papers_unreviewd,bibs_data.T],axis=1)\n",
        "  papers_unreviewd.to_csv(path_dt+'papers_unreviewd_'+today_dt_str+'.csv')"
      ]
    },
    {
      "cell_type": "code",
      "execution_count": 12,
      "metadata": {
        "id": "vD5nG0YEtfKE"
      },
      "outputs": [],
      "source": [
        "# Remove papers_unreviewd published 3 years back\n",
        "today_dt = dt.date.today()\n",
        "idx_bool = pd.to_numeric(papers_unreviewd.year.replace('Not founded',0))>int(today_dt.year)-3\n",
        "papers_unreviewd = papers_unreviewd[idx_bool]\n",
        "last3 = pd.Series(papers_unreviewd.shape[0],index=['Published in the last 3 years'])\n",
        "counts = pd.concat([counts,last3],axis=0)"
      ]
    },
    {
      "cell_type": "code",
      "execution_count": 13,
      "metadata": {
        "colab": {
          "base_uri": "https://localhost:8080/"
        },
        "id": "aY-3CITbzblA",
        "outputId": "8ddd43db-1138-4652-e0ca-f34d1e70ec42"
      },
      "outputs": [
        {
          "output_type": "execute_result",
          "data": {
            "text/plain": [
              "article          7\n",
              "inproceedings    1\n",
              "Name: ENTRYTYPE, dtype: int64"
            ]
          },
          "metadata": {},
          "execution_count": 13
        }
      ],
      "source": [
        "papers_unreviewd.ENTRYTYPE.value_counts()"
      ]
    },
    {
      "cell_type": "code",
      "execution_count": 14,
      "metadata": {
        "id": "uBOIw1GCykw3"
      },
      "outputs": [],
      "source": [
        "# Remove unwanted text formats\n",
        "idx_entrytype = papers_unreviewd.ENTRYTYPE.isin(['book',\n",
        "                                                 'inproceedings',\n",
        "                                                 'misc',\n",
        "                                                 'incollection',\n",
        "                                                 'techreport'])\n",
        "papers_unreviewd = papers_unreviewd[~(idx_entrytype)]\n",
        "c_paper = pd.Series(papers_unreviewd.shape[0],index=['Published as Paper'])\n",
        "counts = pd.concat([counts,c_paper],axis=0)"
      ]
    },
    {
      "cell_type": "code",
      "execution_count": 15,
      "metadata": {
        "id": "MAePAiG00H0r"
      },
      "outputs": [],
      "source": [
        "papers_unreviewd = papers_unreviewd.drop_duplicates(subset='title_GS')\n",
        "c_dropdup = pd.Series(papers_unreviewd.shape[0],index=['Not duplicated'])\n",
        "counts = pd.concat([counts,c_dropdup],axis=0)"
      ]
    },
    {
      "cell_type": "markdown",
      "metadata": {
        "id": "HhLrFWlsWdsW"
      },
      "source": [
        "# **Prisma 1st step - Title analysis**"
      ]
    },
    {
      "cell_type": "code",
      "execution_count": 16,
      "metadata": {
        "id": "oZeuFDRsPgbC"
      },
      "outputs": [],
      "source": [
        "def get_it_df(data,values):\n",
        "  layout_label = Layout(width='auto',height='auto',\n",
        "                    flex_flow='column',\n",
        "                    description_width='auto',\n",
        "                    description_height='auto')\n",
        "  checkbox_objs = [widgets.Checkbox(value=val, \n",
        "                                       description=items,\n",
        "                                       layout=layout_label) for items,val in zip(data,values)]\n",
        "  names = data.tolist()\n",
        "  arg_dict = {names[i]: checkbox for i, checkbox in enumerate(checkbox_objs)}\n",
        "  ui = widgets.VBox(children=checkbox_objs,layout=layout_label)\n",
        "  return ui"
      ]
    },
    {
      "cell_type": "code",
      "execution_count": 17,
      "metadata": {
        "colab": {
          "base_uri": "https://localhost:8080/",
          "height": 437,
          "referenced_widgets": [
            "12dceada80814873a6843818b5479821",
            "d89de932522a4dfb9e64ece6d1a7d7c2",
            "1bb9d5556a0942ceaa243630e428fe98",
            "2fc69825ce904781b002904a384baa9c",
            "8e766f96de464a1a8bc5a7e69d2e778e",
            "bc1f74826ea64966b4fc73f4d4dd805c",
            "c497027018f94f42866e12a421e3f503",
            "58d34be8b31e455e84d797f54cbdfc21",
            "edb2a83e1b354da2b1e0cd286eb195fc",
            "92c140e6666444f68cbdac34f03038a0",
            "234f6d8f4750415c8a7b7f23ab802737",
            "66fa4f9e336541b38eebe5dcf1ef0a32",
            "62cd7a11c56a4f38b561cc35b9305f32",
            "bd22bf2df78d4413b79570321976313b",
            "4aa0e4cddeef402caa0095af3542db46",
            "4d2fc4d3c3944c07bf137d9e050fd540"
          ]
        },
        "id": "lp4qTis7T0Id",
        "outputId": "321c6131-34a3-47f3-ab3f-398977379687"
      },
      "outputs": [
        {
          "output_type": "display_data",
          "data": {
            "text/plain": [
              "VBox(children=(Checkbox(value=True, description='Neuroscope: An explainable ai toolbox for semantic segmentati…"
            ],
            "application/vnd.jupyter.widget-view+json": {
              "version_major": 2,
              "version_minor": 0,
              "model_id": "12dceada80814873a6843818b5479821"
            }
          },
          "metadata": {}
        }
      ],
      "source": [
        "if review_status == 'continue_last':\n",
        "  papers_fst_sel = pd.read_csv(path_dt+'papers_fst_sel_'+today_dt_str+'.csv') \n",
        "  idx_sel_val = papers_unreviewd.title_GS.isin(papers_fst_sel.title_GS)\n",
        "else:\n",
        "  idx_sel_val = pd.Series(True,index=papers_unreviewd.title_GS)\n",
        "ui_fst = get_it_df(papers_unreviewd.title_GS,idx_sel_val)\n",
        "\n",
        "display(ui_fst)"
      ]
    },
    {
      "cell_type": "code",
      "execution_count": 18,
      "metadata": {
        "id": "jADCh6mxDl4l"
      },
      "outputs": [],
      "source": [
        "fst_sel = [ui_fst.children[row].value for row in range(0,papers_unreviewd.shape[0])]\n",
        "papers_fst_sel = papers_unreviewd[fst_sel]\n",
        "papers_fst_sel.to_csv(path_dt+'papers_fst_sel_'+today_dt_str+'.csv')\n",
        "c_fst_sel = pd.Series(papers_fst_sel.shape[0],index=['Prisma 1st step'])\n",
        "counts = pd.concat([counts,c_fst_sel],axis=0)"
      ]
    },
    {
      "cell_type": "markdown",
      "metadata": {
        "id": "f5rNA8Evs_zg"
      },
      "source": [
        "# **Download papers by DOI**"
      ]
    },
    {
      "cell_type": "code",
      "execution_count": 19,
      "metadata": {
        "id": "Z0R10n-9r5ow",
        "colab": {
          "base_uri": "https://localhost:8080/"
        },
        "outputId": "4b920120-f4b6-4bee-b24a-457273a63d39"
      },
      "outputs": [
        {
          "output_type": "stream",
          "name": "stderr",
          "text": [
            "DEBUG:urllib3.connectionpool:Starting new HTTP connection (1): tool.yovisun.com:80\n",
            "2022-11-03 14:09:09 [urllib3.connectionpool] DEBUG: Starting new HTTP connection (1): tool.yovisun.com:80\n",
            "DEBUG:urllib3.connectionpool:http://tool.yovisun.com:80 \"GET /scihub HTTP/1.1\" 301 169\n",
            "2022-11-03 14:09:09 [urllib3.connectionpool] DEBUG: http://tool.yovisun.com:80 \"GET /scihub HTTP/1.1\" 301 169\n",
            "DEBUG:urllib3.connectionpool:Starting new HTTPS connection (1): tool.yovisun.com:443\n",
            "2022-11-03 14:09:09 [urllib3.connectionpool] DEBUG: Starting new HTTPS connection (1): tool.yovisun.com:443\n",
            "DEBUG:urllib3.connectionpool:https://tool.yovisun.com:443 \"GET /scihub HTTP/1.1\" 301 169\n",
            "2022-11-03 14:09:10 [urllib3.connectionpool] DEBUG: https://tool.yovisun.com:443 \"GET /scihub HTTP/1.1\" 301 169\n",
            "DEBUG:urllib3.connectionpool:https://tool.yovisun.com:443 \"GET /scihub/ HTTP/1.1\" 200 24161\n",
            "2022-11-03 14:09:10 [urllib3.connectionpool] DEBUG: https://tool.yovisun.com:443 \"GET /scihub/ HTTP/1.1\" 200 24161\n",
            "[INFO] | 2022/11/03 14:09:11 | Found 6 valid SciHub domains in total: ['https://sci-hub.se', 'http://sci-hub.se', 'http://sci-hub.ru', 'https://sci-hub.ru', 'http://sci-hub.st', 'https://sci-hub.st']\n",
            "[INFO] | 2022/11/03 14:09:11 | Saved 6 SciHub domains to local db.\n",
            "[INFO] | 2022/11/03 14:09:11 | Choose scihub url [0]: https://sci-hub.se\n",
            "DEBUG:urllib3.connectionpool:Starting new HTTPS connection (1): sci-hub.se:443\n",
            "2022-11-03 14:09:11 [urllib3.connectionpool] DEBUG: Starting new HTTPS connection (1): sci-hub.se:443\n",
            "DEBUG:urllib3.connectionpool:https://sci-hub.se:443 \"POST / HTTP/1.1\" 302 None\n",
            "2022-11-03 14:09:11 [urllib3.connectionpool] DEBUG: https://sci-hub.se:443 \"POST / HTTP/1.1\" 302 None\n",
            "DEBUG:urllib3.connectionpool:https://sci-hub.se:443 \"GET /10.3390/app11052199 HTTP/1.1\" 200 None\n",
            "2022-11-03 14:09:12 [urllib3.connectionpool] DEBUG: https://sci-hub.se:443 \"GET /10.3390/app11052199 HTTP/1.1\" 200 None\n",
            "[INFO] | 2022/11/03 14:09:12 | <- Request: scihub_url=https://sci-hub.se, source=DoiSource[type=doi, id=10.3390/app11052199]\n",
            "[INFO] | 2022/11/03 14:09:12 | -> Response: status_code=200, content_length=7004\n",
            "[INFO] | 2022/11/03 14:09:12 | * Extracted information: {'url': 'https://sci-hub.se/downloads/2021-08-11/4d/schorr2021.pdf', 'title': 'Neuroscope  An Explainable AI Toolbox for Semantic Segmentation and Image Classification of Convolutional Neural Nets. Applied S'}\n",
            "[INFO] | 2022/11/03 14:09:13 | ↓ Successfully download the url to: /content/drive/My Drive/covid_XAI/results/review/XAI_img/2022-11-03/Neuroscope: An explainable ai toolbox for semantic segmentation and image classification of convolutional neural nets.pdf\n",
            "[INFO] | 2022/11/03 14:09:13 | Choose scihub url [0]: https://sci-hub.se\n",
            "DEBUG:urllib3.connectionpool:Starting new HTTPS connection (1): sci-hub.se:443\n",
            "2022-11-03 14:09:13 [urllib3.connectionpool] DEBUG: Starting new HTTPS connection (1): sci-hub.se:443\n"
          ]
        },
        {
          "output_type": "stream",
          "name": "stdout",
          "text": [
            "\n"
          ]
        },
        {
          "output_type": "stream",
          "name": "stderr",
          "text": [
            "DEBUG:urllib3.connectionpool:https://sci-hub.se:443 \"POST / HTTP/1.1\" 302 None\n",
            "2022-11-03 14:09:14 [urllib3.connectionpool] DEBUG: https://sci-hub.se:443 \"POST / HTTP/1.1\" 302 None\n",
            "DEBUG:urllib3.connectionpool:https://sci-hub.se:443 \"GET /10.36227/techrxiv.19310489.v1 HTTP/1.1\" 200 None\n",
            "2022-11-03 14:09:14 [urllib3.connectionpool] DEBUG: https://sci-hub.se:443 \"GET /10.36227/techrxiv.19310489.v1 HTTP/1.1\" 200 None\n",
            "[INFO] | 2022/11/03 14:09:14 | <- Request: scihub_url=https://sci-hub.se, source=DoiSource[type=doi, id=10.36227/techrxiv.19310489.v1]\n",
            "[INFO] | 2022/11/03 14:09:14 | -> Response: status_code=200, content_length=5838\n",
            "[WARNING] | 2022/11/03 14:09:14 | Error occurs, task status: extracting_failed, error: No pdf tag was found in the given content with the selector: #pdf\n",
            "[INFO] | 2022/11/03 14:09:14 | Choose scihub url [1]: http://sci-hub.se\n",
            "DEBUG:urllib3.connectionpool:Starting new HTTP connection (1): sci-hub.se:80\n",
            "2022-11-03 14:09:14 [urllib3.connectionpool] DEBUG: Starting new HTTP connection (1): sci-hub.se:80\n",
            "DEBUG:urllib3.connectionpool:http://sci-hub.se:80 \"POST / HTTP/1.1\" 308 569\n",
            "2022-11-03 14:09:14 [urllib3.connectionpool] DEBUG: http://sci-hub.se:80 \"POST / HTTP/1.1\" 308 569\n",
            "DEBUG:urllib3.connectionpool:Starting new HTTPS connection (1): sci-hub.se:443\n",
            "2022-11-03 14:09:14 [urllib3.connectionpool] DEBUG: Starting new HTTPS connection (1): sci-hub.se:443\n",
            "DEBUG:urllib3.connectionpool:https://sci-hub.se:443 \"POST / HTTP/1.1\" 302 None\n",
            "2022-11-03 14:09:15 [urllib3.connectionpool] DEBUG: https://sci-hub.se:443 \"POST / HTTP/1.1\" 302 None\n",
            "DEBUG:urllib3.connectionpool:https://sci-hub.se:443 \"GET /10.36227/techrxiv.19310489.v1 HTTP/1.1\" 200 None\n",
            "2022-11-03 14:09:15 [urllib3.connectionpool] DEBUG: https://sci-hub.se:443 \"GET /10.36227/techrxiv.19310489.v1 HTTP/1.1\" 200 None\n",
            "[INFO] | 2022/11/03 14:09:15 | <- Request: scihub_url=http://sci-hub.se, source=DoiSource[type=doi, id=10.36227/techrxiv.19310489.v1]\n",
            "[INFO] | 2022/11/03 14:09:15 | -> Response: status_code=200, content_length=5838\n",
            "[WARNING] | 2022/11/03 14:09:15 | Error occurs, task status: extracting_failed, error: No pdf tag was found in the given content with the selector: #pdf\n",
            "[INFO] | 2022/11/03 14:09:15 | Choose scihub url [2]: http://sci-hub.ru\n",
            "DEBUG:urllib3.connectionpool:Starting new HTTP connection (1): sci-hub.ru:80\n",
            "2022-11-03 14:09:15 [urllib3.connectionpool] DEBUG: Starting new HTTP connection (1): sci-hub.ru:80\n",
            "DEBUG:urllib3.connectionpool:http://sci-hub.ru:80 \"POST / HTTP/1.1\" 308 569\n",
            "2022-11-03 14:09:16 [urllib3.connectionpool] DEBUG: http://sci-hub.ru:80 \"POST / HTTP/1.1\" 308 569\n",
            "DEBUG:urllib3.connectionpool:Starting new HTTPS connection (1): sci-hub.ru:443\n",
            "2022-11-03 14:09:16 [urllib3.connectionpool] DEBUG: Starting new HTTPS connection (1): sci-hub.ru:443\n",
            "DEBUG:urllib3.connectionpool:https://sci-hub.ru:443 \"POST / HTTP/1.1\" 302 None\n",
            "2022-11-03 14:09:16 [urllib3.connectionpool] DEBUG: https://sci-hub.ru:443 \"POST / HTTP/1.1\" 302 None\n",
            "DEBUG:urllib3.connectionpool:https://sci-hub.ru:443 \"GET /10.36227/techrxiv.19310489.v1 HTTP/1.1\" 200 None\n",
            "2022-11-03 14:09:16 [urllib3.connectionpool] DEBUG: https://sci-hub.ru:443 \"GET /10.36227/techrxiv.19310489.v1 HTTP/1.1\" 200 None\n",
            "[INFO] | 2022/11/03 14:09:16 | <- Request: scihub_url=http://sci-hub.ru, source=DoiSource[type=doi, id=10.36227/techrxiv.19310489.v1]\n",
            "[INFO] | 2022/11/03 14:09:16 | -> Response: status_code=200, content_length=5838\n",
            "[WARNING] | 2022/11/03 14:09:16 | Error occurs, task status: extracting_failed, error: No pdf tag was found in the given content with the selector: #pdf\n",
            "[INFO] | 2022/11/03 14:09:16 | Choose scihub url [3]: https://sci-hub.ru\n",
            "DEBUG:urllib3.connectionpool:Starting new HTTPS connection (1): sci-hub.ru:443\n",
            "2022-11-03 14:09:16 [urllib3.connectionpool] DEBUG: Starting new HTTPS connection (1): sci-hub.ru:443\n",
            "DEBUG:urllib3.connectionpool:https://sci-hub.ru:443 \"POST / HTTP/1.1\" 302 None\n",
            "2022-11-03 14:09:17 [urllib3.connectionpool] DEBUG: https://sci-hub.ru:443 \"POST / HTTP/1.1\" 302 None\n",
            "DEBUG:urllib3.connectionpool:https://sci-hub.ru:443 \"GET /10.36227/techrxiv.19310489.v1 HTTP/1.1\" 200 None\n",
            "2022-11-03 14:09:17 [urllib3.connectionpool] DEBUG: https://sci-hub.ru:443 \"GET /10.36227/techrxiv.19310489.v1 HTTP/1.1\" 200 None\n",
            "[INFO] | 2022/11/03 14:09:17 | <- Request: scihub_url=https://sci-hub.ru, source=DoiSource[type=doi, id=10.36227/techrxiv.19310489.v1]\n",
            "[INFO] | 2022/11/03 14:09:17 | -> Response: status_code=200, content_length=5838\n",
            "[WARNING] | 2022/11/03 14:09:17 | Error occurs, task status: extracting_failed, error: No pdf tag was found in the given content with the selector: #pdf\n",
            "[INFO] | 2022/11/03 14:09:17 | Choose scihub url [4]: http://sci-hub.st\n",
            "DEBUG:urllib3.connectionpool:Starting new HTTP connection (1): sci-hub.st:80\n",
            "2022-11-03 14:09:17 [urllib3.connectionpool] DEBUG: Starting new HTTP connection (1): sci-hub.st:80\n",
            "DEBUG:urllib3.connectionpool:http://sci-hub.st:80 \"POST / HTTP/1.1\" 308 569\n",
            "2022-11-03 14:09:18 [urllib3.connectionpool] DEBUG: http://sci-hub.st:80 \"POST / HTTP/1.1\" 308 569\n",
            "DEBUG:urllib3.connectionpool:Starting new HTTPS connection (1): sci-hub.st:443\n",
            "2022-11-03 14:09:18 [urllib3.connectionpool] DEBUG: Starting new HTTPS connection (1): sci-hub.st:443\n",
            "DEBUG:urllib3.connectionpool:https://sci-hub.st:443 \"POST / HTTP/1.1\" 200 None\n",
            "2022-11-03 14:09:19 [urllib3.connectionpool] DEBUG: https://sci-hub.st:443 \"POST / HTTP/1.1\" 200 None\n",
            "[INFO] | 2022/11/03 14:09:19 | <- Request: scihub_url=http://sci-hub.st, source=DoiSource[type=doi, id=10.36227/techrxiv.19310489.v1]\n",
            "[INFO] | 2022/11/03 14:09:19 | -> Response: status_code=200, content_length=27547\n",
            "[WARNING] | 2022/11/03 14:09:19 | Error occurs, task status: extracting_failed, error: No pdf tag was found in the given content with the selector: #pdf\n",
            "[INFO] | 2022/11/03 14:09:19 | Choose scihub url [5]: https://sci-hub.st\n",
            "DEBUG:urllib3.connectionpool:Starting new HTTPS connection (1): sci-hub.st:443\n",
            "2022-11-03 14:09:19 [urllib3.connectionpool] DEBUG: Starting new HTTPS connection (1): sci-hub.st:443\n",
            "DEBUG:urllib3.connectionpool:https://sci-hub.st:443 \"POST / HTTP/1.1\" 200 None\n",
            "2022-11-03 14:09:19 [urllib3.connectionpool] DEBUG: https://sci-hub.st:443 \"POST / HTTP/1.1\" 200 None\n",
            "[INFO] | 2022/11/03 14:09:19 | <- Request: scihub_url=https://sci-hub.st, source=DoiSource[type=doi, id=10.36227/techrxiv.19310489.v1]\n",
            "[INFO] | 2022/11/03 14:09:19 | -> Response: status_code=200, content_length=27547\n",
            "[WARNING] | 2022/11/03 14:09:19 | Error occurs, task status: extracting_failed, error: No pdf tag was found in the given content with the selector: #pdf\n",
            "[ERROR] | 2022/11/03 14:09:19 | Failed to download the paper: 10.36227/techrxiv.19310489.v1. Please try again.\n",
            "[INFO] | 2022/11/03 14:09:19 | Choose scihub url [0]: https://sci-hub.se\n",
            "DEBUG:urllib3.connectionpool:Starting new HTTPS connection (1): sci-hub.se:443\n",
            "2022-11-03 14:09:19 [urllib3.connectionpool] DEBUG: Starting new HTTPS connection (1): sci-hub.se:443\n",
            "DEBUG:urllib3.connectionpool:https://sci-hub.se:443 \"POST / HTTP/1.1\" 302 None\n",
            "2022-11-03 14:09:20 [urllib3.connectionpool] DEBUG: https://sci-hub.se:443 \"POST / HTTP/1.1\" 302 None\n",
            "DEBUG:urllib3.connectionpool:https://sci-hub.se:443 \"GET /10.1007/s12553-021-00620-z HTTP/1.1\" 200 None\n",
            "2022-11-03 14:09:20 [urllib3.connectionpool] DEBUG: https://sci-hub.se:443 \"GET /10.1007/s12553-021-00620-z HTTP/1.1\" 200 None\n",
            "[INFO] | 2022/11/03 14:09:20 | <- Request: scihub_url=https://sci-hub.se, source=DoiSource[type=doi, id=10.1007/s12553-021-00620-z]\n",
            "[INFO] | 2022/11/03 14:09:20 | -> Response: status_code=200, content_length=5835\n",
            "[WARNING] | 2022/11/03 14:09:20 | Error occurs, task status: extracting_failed, error: No pdf tag was found in the given content with the selector: #pdf\n",
            "[INFO] | 2022/11/03 14:09:20 | Choose scihub url [1]: http://sci-hub.se\n",
            "DEBUG:urllib3.connectionpool:Starting new HTTP connection (1): sci-hub.se:80\n",
            "2022-11-03 14:09:20 [urllib3.connectionpool] DEBUG: Starting new HTTP connection (1): sci-hub.se:80\n",
            "DEBUG:urllib3.connectionpool:http://sci-hub.se:80 \"POST / HTTP/1.1\" 308 569\n",
            "2022-11-03 14:09:20 [urllib3.connectionpool] DEBUG: http://sci-hub.se:80 \"POST / HTTP/1.1\" 308 569\n",
            "DEBUG:urllib3.connectionpool:Starting new HTTPS connection (1): sci-hub.se:443\n",
            "2022-11-03 14:09:20 [urllib3.connectionpool] DEBUG: Starting new HTTPS connection (1): sci-hub.se:443\n",
            "DEBUG:urllib3.connectionpool:https://sci-hub.se:443 \"POST / HTTP/1.1\" 302 None\n",
            "2022-11-03 14:09:21 [urllib3.connectionpool] DEBUG: https://sci-hub.se:443 \"POST / HTTP/1.1\" 302 None\n",
            "DEBUG:urllib3.connectionpool:https://sci-hub.se:443 \"GET /10.1007/s12553-021-00620-z HTTP/1.1\" 200 None\n",
            "2022-11-03 14:09:21 [urllib3.connectionpool] DEBUG: https://sci-hub.se:443 \"GET /10.1007/s12553-021-00620-z HTTP/1.1\" 200 None\n",
            "[INFO] | 2022/11/03 14:09:21 | <- Request: scihub_url=http://sci-hub.se, source=DoiSource[type=doi, id=10.1007/s12553-021-00620-z]\n",
            "[INFO] | 2022/11/03 14:09:21 | -> Response: status_code=200, content_length=5835\n",
            "[WARNING] | 2022/11/03 14:09:21 | Error occurs, task status: extracting_failed, error: No pdf tag was found in the given content with the selector: #pdf\n",
            "[INFO] | 2022/11/03 14:09:21 | Choose scihub url [2]: http://sci-hub.ru\n",
            "DEBUG:urllib3.connectionpool:Starting new HTTP connection (1): sci-hub.ru:80\n",
            "2022-11-03 14:09:21 [urllib3.connectionpool] DEBUG: Starting new HTTP connection (1): sci-hub.ru:80\n",
            "DEBUG:urllib3.connectionpool:http://sci-hub.ru:80 \"POST / HTTP/1.1\" 308 569\n",
            "2022-11-03 14:09:21 [urllib3.connectionpool] DEBUG: http://sci-hub.ru:80 \"POST / HTTP/1.1\" 308 569\n",
            "DEBUG:urllib3.connectionpool:Starting new HTTPS connection (1): sci-hub.ru:443\n",
            "2022-11-03 14:09:21 [urllib3.connectionpool] DEBUG: Starting new HTTPS connection (1): sci-hub.ru:443\n",
            "DEBUG:urllib3.connectionpool:https://sci-hub.ru:443 \"POST / HTTP/1.1\" 302 None\n",
            "2022-11-03 14:09:22 [urllib3.connectionpool] DEBUG: https://sci-hub.ru:443 \"POST / HTTP/1.1\" 302 None\n",
            "DEBUG:urllib3.connectionpool:https://sci-hub.ru:443 \"GET /10.1007/s12553-021-00620-z HTTP/1.1\" 200 None\n",
            "2022-11-03 14:09:22 [urllib3.connectionpool] DEBUG: https://sci-hub.ru:443 \"GET /10.1007/s12553-021-00620-z HTTP/1.1\" 200 None\n",
            "[INFO] | 2022/11/03 14:09:22 | <- Request: scihub_url=http://sci-hub.ru, source=DoiSource[type=doi, id=10.1007/s12553-021-00620-z]\n",
            "[INFO] | 2022/11/03 14:09:22 | -> Response: status_code=200, content_length=5835\n",
            "[WARNING] | 2022/11/03 14:09:22 | Error occurs, task status: extracting_failed, error: No pdf tag was found in the given content with the selector: #pdf\n",
            "[INFO] | 2022/11/03 14:09:22 | Choose scihub url [3]: https://sci-hub.ru\n",
            "DEBUG:urllib3.connectionpool:Starting new HTTPS connection (1): sci-hub.ru:443\n",
            "2022-11-03 14:09:22 [urllib3.connectionpool] DEBUG: Starting new HTTPS connection (1): sci-hub.ru:443\n",
            "DEBUG:urllib3.connectionpool:https://sci-hub.ru:443 \"POST / HTTP/1.1\" 302 None\n",
            "2022-11-03 14:09:23 [urllib3.connectionpool] DEBUG: https://sci-hub.ru:443 \"POST / HTTP/1.1\" 302 None\n",
            "DEBUG:urllib3.connectionpool:https://sci-hub.ru:443 \"GET /10.1007/s12553-021-00620-z HTTP/1.1\" 200 None\n",
            "2022-11-03 14:09:23 [urllib3.connectionpool] DEBUG: https://sci-hub.ru:443 \"GET /10.1007/s12553-021-00620-z HTTP/1.1\" 200 None\n",
            "[INFO] | 2022/11/03 14:09:23 | <- Request: scihub_url=https://sci-hub.ru, source=DoiSource[type=doi, id=10.1007/s12553-021-00620-z]\n",
            "[INFO] | 2022/11/03 14:09:23 | -> Response: status_code=200, content_length=5835\n",
            "[WARNING] | 2022/11/03 14:09:23 | Error occurs, task status: extracting_failed, error: No pdf tag was found in the given content with the selector: #pdf\n",
            "[INFO] | 2022/11/03 14:09:23 | Choose scihub url [4]: http://sci-hub.st\n",
            "DEBUG:urllib3.connectionpool:Starting new HTTP connection (1): sci-hub.st:80\n",
            "2022-11-03 14:09:23 [urllib3.connectionpool] DEBUG: Starting new HTTP connection (1): sci-hub.st:80\n",
            "DEBUG:urllib3.connectionpool:http://sci-hub.st:80 \"POST / HTTP/1.1\" 308 569\n",
            "2022-11-03 14:09:23 [urllib3.connectionpool] DEBUG: http://sci-hub.st:80 \"POST / HTTP/1.1\" 308 569\n",
            "DEBUG:urllib3.connectionpool:Starting new HTTPS connection (1): sci-hub.st:443\n",
            "2022-11-03 14:09:23 [urllib3.connectionpool] DEBUG: Starting new HTTPS connection (1): sci-hub.st:443\n",
            "DEBUG:urllib3.connectionpool:https://sci-hub.st:443 \"POST / HTTP/1.1\" 200 None\n",
            "2022-11-03 14:09:24 [urllib3.connectionpool] DEBUG: https://sci-hub.st:443 \"POST / HTTP/1.1\" 200 None\n",
            "[INFO] | 2022/11/03 14:09:24 | <- Request: scihub_url=http://sci-hub.st, source=DoiSource[type=doi, id=10.1007/s12553-021-00620-z]\n",
            "[INFO] | 2022/11/03 14:09:24 | -> Response: status_code=200, content_length=27547\n",
            "[WARNING] | 2022/11/03 14:09:24 | Error occurs, task status: extracting_failed, error: No pdf tag was found in the given content with the selector: #pdf\n",
            "[INFO] | 2022/11/03 14:09:24 | Choose scihub url [5]: https://sci-hub.st\n",
            "DEBUG:urllib3.connectionpool:Starting new HTTPS connection (1): sci-hub.st:443\n",
            "2022-11-03 14:09:24 [urllib3.connectionpool] DEBUG: Starting new HTTPS connection (1): sci-hub.st:443\n",
            "DEBUG:urllib3.connectionpool:https://sci-hub.st:443 \"POST / HTTP/1.1\" 200 None\n",
            "2022-11-03 14:09:24 [urllib3.connectionpool] DEBUG: https://sci-hub.st:443 \"POST / HTTP/1.1\" 200 None\n",
            "[INFO] | 2022/11/03 14:09:24 | <- Request: scihub_url=https://sci-hub.st, source=DoiSource[type=doi, id=10.1007/s12553-021-00620-z]\n",
            "[INFO] | 2022/11/03 14:09:24 | -> Response: status_code=200, content_length=27547\n",
            "[WARNING] | 2022/11/03 14:09:24 | Error occurs, task status: extracting_failed, error: No pdf tag was found in the given content with the selector: #pdf\n",
            "[ERROR] | 2022/11/03 14:09:24 | Failed to download the paper: 10.1007/s12553-021-00620-z. Please try again.\n",
            "[INFO] | 2022/11/03 14:09:24 | Choose scihub url [0]: https://sci-hub.se\n",
            "DEBUG:urllib3.connectionpool:Starting new HTTPS connection (1): sci-hub.se:443\n",
            "2022-11-03 14:09:24 [urllib3.connectionpool] DEBUG: Starting new HTTPS connection (1): sci-hub.se:443\n",
            "DEBUG:urllib3.connectionpool:https://sci-hub.se:443 \"POST / HTTP/1.1\" 302 None\n",
            "2022-11-03 14:09:25 [urllib3.connectionpool] DEBUG: https://sci-hub.se:443 \"POST / HTTP/1.1\" 302 None\n",
            "DEBUG:urllib3.connectionpool:https://sci-hub.se:443 \"GET /10.3390/smartcities3040065 HTTP/1.1\" 200 None\n",
            "2022-11-03 14:09:25 [urllib3.connectionpool] DEBUG: https://sci-hub.se:443 \"GET /10.3390/smartcities3040065 HTTP/1.1\" 200 None\n",
            "[INFO] | 2022/11/03 14:09:25 | <- Request: scihub_url=https://sci-hub.se, source=DoiSource[type=doi, id=10.3390/smartcities3040065]\n",
            "[INFO] | 2022/11/03 14:09:25 | -> Response: status_code=200, content_length=7031\n",
            "[INFO] | 2022/11/03 14:09:25 | * Extracted information: {'url': 'https://sci-hub.se/downloads/2020-11-17/69/10.3390@smartcities3040065.pdf', 'title': 'Explainable Artificial Intelligence for Developing Smart Cities Solutions. Smart Cities, 3(4), 1353–1382'}\n",
            "[INFO] | 2022/11/03 14:09:30 | ↓ Successfully download the url to: /content/drive/My Drive/covid_XAI/results/review/XAI_img/2022-11-03/Explainable artificial intelligence for developing smart cities solutions.pdf\n",
            "[INFO] | 2022/11/03 14:09:30 | Choose scihub url [0]: https://sci-hub.se\n",
            "DEBUG:urllib3.connectionpool:Starting new HTTPS connection (1): sci-hub.se:443\n",
            "2022-11-03 14:09:30 [urllib3.connectionpool] DEBUG: Starting new HTTPS connection (1): sci-hub.se:443\n"
          ]
        },
        {
          "output_type": "stream",
          "name": "stdout",
          "text": [
            "\n"
          ]
        },
        {
          "output_type": "stream",
          "name": "stderr",
          "text": [
            "DEBUG:urllib3.connectionpool:https://sci-hub.se:443 \"POST / HTTP/1.1\" 302 None\n",
            "2022-11-03 14:09:30 [urllib3.connectionpool] DEBUG: https://sci-hub.se:443 \"POST / HTTP/1.1\" 302 None\n",
            "DEBUG:urllib3.connectionpool:https://sci-hub.se:443 \"GET /10.3390/s21165657 HTTP/1.1\" 200 None\n",
            "2022-11-03 14:09:30 [urllib3.connectionpool] DEBUG: https://sci-hub.se:443 \"GET /10.3390/s21165657 HTTP/1.1\" 200 None\n",
            "[INFO] | 2022/11/03 14:09:30 | <- Request: scihub_url=https://sci-hub.se, source=DoiSource[type=doi, id=10.3390/s21165657]\n",
            "[INFO] | 2022/11/03 14:09:30 | -> Response: status_code=200, content_length=5826\n",
            "[WARNING] | 2022/11/03 14:09:30 | Error occurs, task status: extracting_failed, error: No pdf tag was found in the given content with the selector: #pdf\n",
            "[INFO] | 2022/11/03 14:09:30 | Choose scihub url [1]: http://sci-hub.se\n",
            "DEBUG:urllib3.connectionpool:Starting new HTTP connection (1): sci-hub.se:80\n",
            "2022-11-03 14:09:30 [urllib3.connectionpool] DEBUG: Starting new HTTP connection (1): sci-hub.se:80\n",
            "DEBUG:urllib3.connectionpool:http://sci-hub.se:80 \"POST / HTTP/1.1\" 308 569\n",
            "2022-11-03 14:09:31 [urllib3.connectionpool] DEBUG: http://sci-hub.se:80 \"POST / HTTP/1.1\" 308 569\n",
            "DEBUG:urllib3.connectionpool:Starting new HTTPS connection (1): sci-hub.se:443\n",
            "2022-11-03 14:09:31 [urllib3.connectionpool] DEBUG: Starting new HTTPS connection (1): sci-hub.se:443\n",
            "DEBUG:urllib3.connectionpool:https://sci-hub.se:443 \"POST / HTTP/1.1\" 302 None\n",
            "2022-11-03 14:09:31 [urllib3.connectionpool] DEBUG: https://sci-hub.se:443 \"POST / HTTP/1.1\" 302 None\n",
            "DEBUG:urllib3.connectionpool:https://sci-hub.se:443 \"GET /10.3390/s21165657 HTTP/1.1\" 200 None\n",
            "2022-11-03 14:09:31 [urllib3.connectionpool] DEBUG: https://sci-hub.se:443 \"GET /10.3390/s21165657 HTTP/1.1\" 200 None\n",
            "[INFO] | 2022/11/03 14:09:31 | <- Request: scihub_url=http://sci-hub.se, source=DoiSource[type=doi, id=10.3390/s21165657]\n",
            "[INFO] | 2022/11/03 14:09:31 | -> Response: status_code=200, content_length=5826\n",
            "[WARNING] | 2022/11/03 14:09:31 | Error occurs, task status: extracting_failed, error: No pdf tag was found in the given content with the selector: #pdf\n",
            "[INFO] | 2022/11/03 14:09:31 | Choose scihub url [2]: http://sci-hub.ru\n",
            "DEBUG:urllib3.connectionpool:Starting new HTTP connection (1): sci-hub.ru:80\n",
            "2022-11-03 14:09:31 [urllib3.connectionpool] DEBUG: Starting new HTTP connection (1): sci-hub.ru:80\n",
            "DEBUG:urllib3.connectionpool:http://sci-hub.ru:80 \"POST / HTTP/1.1\" 308 569\n",
            "2022-11-03 14:09:32 [urllib3.connectionpool] DEBUG: http://sci-hub.ru:80 \"POST / HTTP/1.1\" 308 569\n",
            "DEBUG:urllib3.connectionpool:Starting new HTTPS connection (1): sci-hub.ru:443\n",
            "2022-11-03 14:09:32 [urllib3.connectionpool] DEBUG: Starting new HTTPS connection (1): sci-hub.ru:443\n",
            "DEBUG:urllib3.connectionpool:https://sci-hub.ru:443 \"POST / HTTP/1.1\" 302 None\n",
            "2022-11-03 14:09:32 [urllib3.connectionpool] DEBUG: https://sci-hub.ru:443 \"POST / HTTP/1.1\" 302 None\n",
            "DEBUG:urllib3.connectionpool:https://sci-hub.ru:443 \"GET /10.3390/s21165657 HTTP/1.1\" 200 None\n",
            "2022-11-03 14:09:32 [urllib3.connectionpool] DEBUG: https://sci-hub.ru:443 \"GET /10.3390/s21165657 HTTP/1.1\" 200 None\n",
            "[INFO] | 2022/11/03 14:09:32 | <- Request: scihub_url=http://sci-hub.ru, source=DoiSource[type=doi, id=10.3390/s21165657]\n",
            "[INFO] | 2022/11/03 14:09:32 | -> Response: status_code=200, content_length=5826\n",
            "[WARNING] | 2022/11/03 14:09:32 | Error occurs, task status: extracting_failed, error: No pdf tag was found in the given content with the selector: #pdf\n",
            "[INFO] | 2022/11/03 14:09:32 | Choose scihub url [3]: https://sci-hub.ru\n",
            "DEBUG:urllib3.connectionpool:Starting new HTTPS connection (1): sci-hub.ru:443\n",
            "2022-11-03 14:09:32 [urllib3.connectionpool] DEBUG: Starting new HTTPS connection (1): sci-hub.ru:443\n",
            "DEBUG:urllib3.connectionpool:https://sci-hub.ru:443 \"POST / HTTP/1.1\" 302 None\n",
            "2022-11-03 14:09:33 [urllib3.connectionpool] DEBUG: https://sci-hub.ru:443 \"POST / HTTP/1.1\" 302 None\n",
            "DEBUG:urllib3.connectionpool:https://sci-hub.ru:443 \"GET /10.3390/s21165657 HTTP/1.1\" 200 None\n",
            "2022-11-03 14:09:33 [urllib3.connectionpool] DEBUG: https://sci-hub.ru:443 \"GET /10.3390/s21165657 HTTP/1.1\" 200 None\n",
            "[INFO] | 2022/11/03 14:09:33 | <- Request: scihub_url=https://sci-hub.ru, source=DoiSource[type=doi, id=10.3390/s21165657]\n",
            "[INFO] | 2022/11/03 14:09:33 | -> Response: status_code=200, content_length=5826\n",
            "[WARNING] | 2022/11/03 14:09:33 | Error occurs, task status: extracting_failed, error: No pdf tag was found in the given content with the selector: #pdf\n",
            "[INFO] | 2022/11/03 14:09:33 | Choose scihub url [4]: http://sci-hub.st\n",
            "DEBUG:urllib3.connectionpool:Starting new HTTP connection (1): sci-hub.st:80\n",
            "2022-11-03 14:09:33 [urllib3.connectionpool] DEBUG: Starting new HTTP connection (1): sci-hub.st:80\n",
            "DEBUG:urllib3.connectionpool:http://sci-hub.st:80 \"POST / HTTP/1.1\" 308 569\n",
            "2022-11-03 14:09:33 [urllib3.connectionpool] DEBUG: http://sci-hub.st:80 \"POST / HTTP/1.1\" 308 569\n",
            "DEBUG:urllib3.connectionpool:Starting new HTTPS connection (1): sci-hub.st:443\n",
            "2022-11-03 14:09:33 [urllib3.connectionpool] DEBUG: Starting new HTTPS connection (1): sci-hub.st:443\n",
            "DEBUG:urllib3.connectionpool:https://sci-hub.st:443 \"POST / HTTP/1.1\" 200 None\n",
            "2022-11-03 14:09:34 [urllib3.connectionpool] DEBUG: https://sci-hub.st:443 \"POST / HTTP/1.1\" 200 None\n",
            "[INFO] | 2022/11/03 14:09:34 | <- Request: scihub_url=http://sci-hub.st, source=DoiSource[type=doi, id=10.3390/s21165657]\n",
            "[INFO] | 2022/11/03 14:09:34 | -> Response: status_code=200, content_length=27547\n",
            "[WARNING] | 2022/11/03 14:09:34 | Error occurs, task status: extracting_failed, error: No pdf tag was found in the given content with the selector: #pdf\n",
            "[INFO] | 2022/11/03 14:09:34 | Choose scihub url [5]: https://sci-hub.st\n",
            "DEBUG:urllib3.connectionpool:Starting new HTTPS connection (1): sci-hub.st:443\n",
            "2022-11-03 14:09:34 [urllib3.connectionpool] DEBUG: Starting new HTTPS connection (1): sci-hub.st:443\n",
            "DEBUG:urllib3.connectionpool:https://sci-hub.st:443 \"POST / HTTP/1.1\" 200 None\n",
            "2022-11-03 14:09:35 [urllib3.connectionpool] DEBUG: https://sci-hub.st:443 \"POST / HTTP/1.1\" 200 None\n",
            "[INFO] | 2022/11/03 14:09:35 | <- Request: scihub_url=https://sci-hub.st, source=DoiSource[type=doi, id=10.3390/s21165657]\n",
            "[INFO] | 2022/11/03 14:09:35 | -> Response: status_code=200, content_length=27547\n",
            "[WARNING] | 2022/11/03 14:09:35 | Error occurs, task status: extracting_failed, error: No pdf tag was found in the given content with the selector: #pdf\n",
            "[ERROR] | 2022/11/03 14:09:35 | Failed to download the paper: 10.3390/s21165657. Please try again.\n"
          ]
        }
      ],
      "source": [
        "if papers_unreviewd.shape[0]>0:\n",
        "  # https://pypi.org/project/scidownl/\n",
        "  # paper_type = \"doi\"\n",
        "  papers_not_downl = []\n",
        "\n",
        "  for doi,title_GS in zip(papers_fst_sel.doi,papers_fst_sel.title_GS):\n",
        "    if doi != 'no_doi':\n",
        "      try:\n",
        "        sci = scihub_download(doi, paper_type=\"doi\", out=path_dt+title_GS+'.pdf')\n",
        "      except:\n",
        "        try:\n",
        "          sci = scihub_download(title_GS, paper_type=\"title\", out=path_dt+title_GS+'.pdf')\n",
        "        except: \n",
        "          print('Error on paper '+title_GS)\n",
        "          papers_not_downl.append(title_GS)      "
      ]
    },
    {
      "cell_type": "markdown",
      "metadata": {
        "id": "E3PhETktJURz"
      },
      "source": [
        "Alternative : https://scihub.copernicus.eu/userguide/BatchScripting"
      ]
    },
    {
      "cell_type": "markdown",
      "metadata": {
        "id": "TBCM3vUUEOzj"
      },
      "source": [
        "# **Prisma 2nd step - Snipet analysis**"
      ]
    },
    {
      "cell_type": "code",
      "execution_count": 23,
      "metadata": {
        "id": "J26mImbSUJ6b",
        "colab": {
          "base_uri": "https://localhost:8080/",
          "height": 317,
          "referenced_widgets": [
            "9b0fecd8f4fd4df5b52550222c0ac8bf",
            "5ab01d7f04414793866466474cf36d3f",
            "d9e12de6badc4f8bb861a225511b09ce",
            "31713a890a2b4b38863f5975915a4a41",
            "dbdd544d229a4983853d1efb956b46ca",
            "d0b125b622f844b8b40d3a291e991020",
            "a652af06885b4dc8929cac1fd3e10f2d",
            "c81e20fc23914551a69a4187cdf091f9",
            "bd279ffb1c9749e391d4f56f23d9bc43",
            "862df852e63943d0b6a8124e120a82ac",
            "1cb0e2d3f76e490db9b700ad0724c321",
            "6ba353e9abf245b6a9a85bcee9eba905"
          ]
        },
        "outputId": "c63481bb-8c2e-4b1b-f8bb-272b9f39bbbc"
      },
      "outputs": [
        {
          "output_type": "display_data",
          "data": {
            "text/plain": [
              "VBox(children=(Checkbox(value=True, description='Neuroscope: An explainable ai toolbox for semantic segmentati…"
            ],
            "application/vnd.jupyter.widget-view+json": {
              "version_major": 2,
              "version_minor": 0,
              "model_id": "9b0fecd8f4fd4df5b52550222c0ac8bf"
            }
          },
          "metadata": {}
        }
      ],
      "source": [
        "if papers_unreviewd.shape[0]>0:\n",
        "    if review_status == 'continue_last':\n",
        "        papers_fst_sel = pd.read_csv(path_dt+'papers_fst_sel_'+today_dt_str+'.csv')\n",
        "    idx_sel_val = pd.Series(True,index=papers_fst_sel.title_GS)\n",
        "    ui_snd = get_it_df(papers_fst_sel.title_GS,idx_sel_val)\n",
        "    display(ui_snd)"
      ]
    },
    {
      "cell_type": "code",
      "execution_count": 24,
      "metadata": {
        "id": "pPFypQIuVu6a"
      },
      "outputs": [],
      "source": [
        "if papers_unreviewd.shape[0]>0:\n",
        "  snd_sel = [ui_snd.children[row].value for row in range(0,papers_fst_sel.shape[0])]\n",
        "  papers_snd_sel = papers_fst_sel[snd_sel]\n",
        "  papers_snd_sel.to_csv(path_dt+'papers_snd_sel_'+today_dt_str+'.csv')"
      ]
    },
    {
      "cell_type": "code",
      "execution_count": 25,
      "metadata": {
        "id": "ZAKVdZ4_T49Z"
      },
      "outputs": [],
      "source": [
        "# Append papers_unreviewd to already reviewd papers\n",
        "if review_status == 'new':\n",
        "  papers_reviewd = papers_unreviewd\n",
        "else:\n",
        "  papers_reviewd = pd.concat([papers_unreviewd,papers_reviewd],axis=0) \n",
        "papers_reviewd.to_csv(root_path+'final_selection/papers_reviewd.csv')\n",
        "c_snd_sel = pd.Series(papers_snd_sel.shape[0],index=['Prisma 2nd step'])\n",
        "counts = pd.concat([counts,c_snd_sel],axis=0)"
      ]
    }
  ],
  "metadata": {
    "accelerator": "GPU",
    "colab": {
      "collapsed_sections": [],
      "machine_shape": "hm",
      "provenance": [],
      "toc_visible": true,
      "include_colab_link": true
    },
    "gpuClass": "premium",
    "kernelspec": {
      "display_name": "Python 3",
      "name": "python3"
    },
    "language_info": {
      "name": "python"
    },
    "widgets": {
      "application/vnd.jupyter.widget-state+json": {
        "12dceada80814873a6843818b5479821": {
          "model_module": "@jupyter-widgets/controls",
          "model_name": "VBoxModel",
          "model_module_version": "1.5.0",
          "state": {
            "_dom_classes": [],
            "_model_module": "@jupyter-widgets/controls",
            "_model_module_version": "1.5.0",
            "_model_name": "VBoxModel",
            "_view_count": null,
            "_view_module": "@jupyter-widgets/controls",
            "_view_module_version": "1.5.0",
            "_view_name": "VBoxView",
            "box_style": "",
            "children": [
              "IPY_MODEL_d89de932522a4dfb9e64ece6d1a7d7c2",
              "IPY_MODEL_1bb9d5556a0942ceaa243630e428fe98",
              "IPY_MODEL_2fc69825ce904781b002904a384baa9c",
              "IPY_MODEL_8e766f96de464a1a8bc5a7e69d2e778e",
              "IPY_MODEL_bc1f74826ea64966b4fc73f4d4dd805c",
              "IPY_MODEL_c497027018f94f42866e12a421e3f503",
              "IPY_MODEL_58d34be8b31e455e84d797f54cbdfc21"
            ],
            "layout": "IPY_MODEL_edb2a83e1b354da2b1e0cd286eb195fc"
          }
        },
        "d89de932522a4dfb9e64ece6d1a7d7c2": {
          "model_module": "@jupyter-widgets/controls",
          "model_name": "CheckboxModel",
          "model_module_version": "1.5.0",
          "state": {
            "_dom_classes": [],
            "_model_module": "@jupyter-widgets/controls",
            "_model_module_version": "1.5.0",
            "_model_name": "CheckboxModel",
            "_view_count": null,
            "_view_module": "@jupyter-widgets/controls",
            "_view_module_version": "1.5.0",
            "_view_name": "CheckboxView",
            "description": "Neuroscope: An explainable ai toolbox for semantic segmentation and image classification of convolutional neural nets",
            "description_tooltip": null,
            "disabled": false,
            "indent": true,
            "layout": "IPY_MODEL_edb2a83e1b354da2b1e0cd286eb195fc",
            "style": "IPY_MODEL_92c140e6666444f68cbdac34f03038a0",
            "value": true
          }
        },
        "1bb9d5556a0942ceaa243630e428fe98": {
          "model_module": "@jupyter-widgets/controls",
          "model_name": "CheckboxModel",
          "model_module_version": "1.5.0",
          "state": {
            "_dom_classes": [],
            "_model_module": "@jupyter-widgets/controls",
            "_model_module_version": "1.5.0",
            "_model_name": "CheckboxModel",
            "_view_count": null,
            "_view_module": "@jupyter-widgets/controls",
            "_view_module_version": "1.5.0",
            "_view_name": "CheckboxView",
            "description": "User-Centric Enhancements to Explainable AI Algorithms for Image Classification",
            "description_tooltip": null,
            "disabled": false,
            "indent": true,
            "layout": "IPY_MODEL_edb2a83e1b354da2b1e0cd286eb195fc",
            "style": "IPY_MODEL_234f6d8f4750415c8a7b7f23ab802737",
            "value": true
          }
        },
        "2fc69825ce904781b002904a384baa9c": {
          "model_module": "@jupyter-widgets/controls",
          "model_name": "CheckboxModel",
          "model_module_version": "1.5.0",
          "state": {
            "_dom_classes": [],
            "_model_module": "@jupyter-widgets/controls",
            "_model_module_version": "1.5.0",
            "_model_name": "CheckboxModel",
            "_view_count": null,
            "_view_module": "@jupyter-widgets/controls",
            "_view_module_version": "1.5.0",
            "_view_name": "CheckboxView",
            "description": "Malaria cell image classification by explainable artificial intelligence",
            "description_tooltip": null,
            "disabled": false,
            "indent": true,
            "layout": "IPY_MODEL_edb2a83e1b354da2b1e0cd286eb195fc",
            "style": "IPY_MODEL_66fa4f9e336541b38eebe5dcf1ef0a32",
            "value": true
          }
        },
        "8e766f96de464a1a8bc5a7e69d2e778e": {
          "model_module": "@jupyter-widgets/controls",
          "model_name": "CheckboxModel",
          "model_module_version": "1.5.0",
          "state": {
            "_dom_classes": [],
            "_model_module": "@jupyter-widgets/controls",
            "_model_module_version": "1.5.0",
            "_model_name": "CheckboxModel",
            "_view_count": null,
            "_view_module": "@jupyter-widgets/controls",
            "_view_module_version": "1.5.0",
            "_view_name": "CheckboxView",
            "description": "Explainable artificial intelligence for developing smart cities solutions",
            "description_tooltip": null,
            "disabled": false,
            "indent": true,
            "layout": "IPY_MODEL_edb2a83e1b354da2b1e0cd286eb195fc",
            "style": "IPY_MODEL_62cd7a11c56a4f38b561cc35b9305f32",
            "value": true
          }
        },
        "bc1f74826ea64966b4fc73f4d4dd805c": {
          "model_module": "@jupyter-widgets/controls",
          "model_name": "CheckboxModel",
          "model_module_version": "1.5.0",
          "state": {
            "_dom_classes": [],
            "_model_module": "@jupyter-widgets/controls",
            "_model_module_version": "1.5.0",
            "_model_name": "CheckboxModel",
            "_view_count": null,
            "_view_module": "@jupyter-widgets/controls",
            "_view_module_version": "1.5.0",
            "_view_name": "CheckboxView",
            "description": "A Hybrid Approach to Histopathological Diagnosis of Paratuberculosis in Sheep with Image Classification and Explainable Artificial Intelligence with Grad-CAM",
            "description_tooltip": null,
            "disabled": false,
            "indent": true,
            "layout": "IPY_MODEL_edb2a83e1b354da2b1e0cd286eb195fc",
            "style": "IPY_MODEL_bd22bf2df78d4413b79570321976313b",
            "value": false
          }
        },
        "c497027018f94f42866e12a421e3f503": {
          "model_module": "@jupyter-widgets/controls",
          "model_name": "CheckboxModel",
          "model_module_version": "1.5.0",
          "state": {
            "_dom_classes": [],
            "_model_module": "@jupyter-widgets/controls",
            "_model_module_version": "1.5.0",
            "_model_name": "CheckboxModel",
            "_view_count": null,
            "_view_module": "@jupyter-widgets/controls",
            "_view_module_version": "1.5.0",
            "_view_name": "CheckboxView",
            "description": "Explainable framework for Glaucoma diagnosis by image processing and convolutional neural network synergy: analysis with doctor evaluation",
            "description_tooltip": null,
            "disabled": false,
            "indent": true,
            "layout": "IPY_MODEL_edb2a83e1b354da2b1e0cd286eb195fc",
            "style": "IPY_MODEL_4aa0e4cddeef402caa0095af3542db46",
            "value": false
          }
        },
        "58d34be8b31e455e84d797f54cbdfc21": {
          "model_module": "@jupyter-widgets/controls",
          "model_name": "CheckboxModel",
          "model_module_version": "1.5.0",
          "state": {
            "_dom_classes": [],
            "_model_module": "@jupyter-widgets/controls",
            "_model_module_version": "1.5.0",
            "_model_name": "CheckboxModel",
            "_view_count": null,
            "_view_module": "@jupyter-widgets/controls",
            "_view_module_version": "1.5.0",
            "_view_name": "CheckboxView",
            "description": "Explainable artificial intelligence for bias detection in covid ct-scan classifiers",
            "description_tooltip": null,
            "disabled": false,
            "indent": true,
            "layout": "IPY_MODEL_edb2a83e1b354da2b1e0cd286eb195fc",
            "style": "IPY_MODEL_4d2fc4d3c3944c07bf137d9e050fd540",
            "value": true
          }
        },
        "edb2a83e1b354da2b1e0cd286eb195fc": {
          "model_module": "@jupyter-widgets/base",
          "model_name": "LayoutModel",
          "model_module_version": "1.2.0",
          "state": {
            "_model_module": "@jupyter-widgets/base",
            "_model_module_version": "1.2.0",
            "_model_name": "LayoutModel",
            "_view_count": null,
            "_view_module": "@jupyter-widgets/base",
            "_view_module_version": "1.2.0",
            "_view_name": "LayoutView",
            "align_content": null,
            "align_items": null,
            "align_self": null,
            "border": null,
            "bottom": null,
            "display": null,
            "flex": null,
            "flex_flow": "column",
            "grid_area": null,
            "grid_auto_columns": null,
            "grid_auto_flow": null,
            "grid_auto_rows": null,
            "grid_column": null,
            "grid_gap": null,
            "grid_row": null,
            "grid_template_areas": null,
            "grid_template_columns": null,
            "grid_template_rows": null,
            "height": "auto",
            "justify_content": null,
            "justify_items": null,
            "left": null,
            "margin": null,
            "max_height": null,
            "max_width": null,
            "min_height": null,
            "min_width": null,
            "object_fit": null,
            "object_position": null,
            "order": null,
            "overflow": null,
            "overflow_x": null,
            "overflow_y": null,
            "padding": null,
            "right": null,
            "top": null,
            "visibility": null,
            "width": "auto"
          }
        },
        "92c140e6666444f68cbdac34f03038a0": {
          "model_module": "@jupyter-widgets/controls",
          "model_name": "DescriptionStyleModel",
          "model_module_version": "1.5.0",
          "state": {
            "_model_module": "@jupyter-widgets/controls",
            "_model_module_version": "1.5.0",
            "_model_name": "DescriptionStyleModel",
            "_view_count": null,
            "_view_module": "@jupyter-widgets/base",
            "_view_module_version": "1.2.0",
            "_view_name": "StyleView",
            "description_width": ""
          }
        },
        "234f6d8f4750415c8a7b7f23ab802737": {
          "model_module": "@jupyter-widgets/controls",
          "model_name": "DescriptionStyleModel",
          "model_module_version": "1.5.0",
          "state": {
            "_model_module": "@jupyter-widgets/controls",
            "_model_module_version": "1.5.0",
            "_model_name": "DescriptionStyleModel",
            "_view_count": null,
            "_view_module": "@jupyter-widgets/base",
            "_view_module_version": "1.2.0",
            "_view_name": "StyleView",
            "description_width": ""
          }
        },
        "66fa4f9e336541b38eebe5dcf1ef0a32": {
          "model_module": "@jupyter-widgets/controls",
          "model_name": "DescriptionStyleModel",
          "model_module_version": "1.5.0",
          "state": {
            "_model_module": "@jupyter-widgets/controls",
            "_model_module_version": "1.5.0",
            "_model_name": "DescriptionStyleModel",
            "_view_count": null,
            "_view_module": "@jupyter-widgets/base",
            "_view_module_version": "1.2.0",
            "_view_name": "StyleView",
            "description_width": ""
          }
        },
        "62cd7a11c56a4f38b561cc35b9305f32": {
          "model_module": "@jupyter-widgets/controls",
          "model_name": "DescriptionStyleModel",
          "model_module_version": "1.5.0",
          "state": {
            "_model_module": "@jupyter-widgets/controls",
            "_model_module_version": "1.5.0",
            "_model_name": "DescriptionStyleModel",
            "_view_count": null,
            "_view_module": "@jupyter-widgets/base",
            "_view_module_version": "1.2.0",
            "_view_name": "StyleView",
            "description_width": ""
          }
        },
        "bd22bf2df78d4413b79570321976313b": {
          "model_module": "@jupyter-widgets/controls",
          "model_name": "DescriptionStyleModel",
          "model_module_version": "1.5.0",
          "state": {
            "_model_module": "@jupyter-widgets/controls",
            "_model_module_version": "1.5.0",
            "_model_name": "DescriptionStyleModel",
            "_view_count": null,
            "_view_module": "@jupyter-widgets/base",
            "_view_module_version": "1.2.0",
            "_view_name": "StyleView",
            "description_width": ""
          }
        },
        "4aa0e4cddeef402caa0095af3542db46": {
          "model_module": "@jupyter-widgets/controls",
          "model_name": "DescriptionStyleModel",
          "model_module_version": "1.5.0",
          "state": {
            "_model_module": "@jupyter-widgets/controls",
            "_model_module_version": "1.5.0",
            "_model_name": "DescriptionStyleModel",
            "_view_count": null,
            "_view_module": "@jupyter-widgets/base",
            "_view_module_version": "1.2.0",
            "_view_name": "StyleView",
            "description_width": ""
          }
        },
        "4d2fc4d3c3944c07bf137d9e050fd540": {
          "model_module": "@jupyter-widgets/controls",
          "model_name": "DescriptionStyleModel",
          "model_module_version": "1.5.0",
          "state": {
            "_model_module": "@jupyter-widgets/controls",
            "_model_module_version": "1.5.0",
            "_model_name": "DescriptionStyleModel",
            "_view_count": null,
            "_view_module": "@jupyter-widgets/base",
            "_view_module_version": "1.2.0",
            "_view_name": "StyleView",
            "description_width": ""
          }
        },
        "9b0fecd8f4fd4df5b52550222c0ac8bf": {
          "model_module": "@jupyter-widgets/controls",
          "model_name": "VBoxModel",
          "model_module_version": "1.5.0",
          "state": {
            "_dom_classes": [],
            "_model_module": "@jupyter-widgets/controls",
            "_model_module_version": "1.5.0",
            "_model_name": "VBoxModel",
            "_view_count": null,
            "_view_module": "@jupyter-widgets/controls",
            "_view_module_version": "1.5.0",
            "_view_name": "VBoxView",
            "box_style": "",
            "children": [
              "IPY_MODEL_5ab01d7f04414793866466474cf36d3f",
              "IPY_MODEL_d9e12de6badc4f8bb861a225511b09ce",
              "IPY_MODEL_31713a890a2b4b38863f5975915a4a41",
              "IPY_MODEL_dbdd544d229a4983853d1efb956b46ca",
              "IPY_MODEL_d0b125b622f844b8b40d3a291e991020"
            ],
            "layout": "IPY_MODEL_a652af06885b4dc8929cac1fd3e10f2d"
          }
        },
        "5ab01d7f04414793866466474cf36d3f": {
          "model_module": "@jupyter-widgets/controls",
          "model_name": "CheckboxModel",
          "model_module_version": "1.5.0",
          "state": {
            "_dom_classes": [],
            "_model_module": "@jupyter-widgets/controls",
            "_model_module_version": "1.5.0",
            "_model_name": "CheckboxModel",
            "_view_count": null,
            "_view_module": "@jupyter-widgets/controls",
            "_view_module_version": "1.5.0",
            "_view_name": "CheckboxView",
            "description": "Neuroscope: An explainable ai toolbox for semantic segmentation and image classification of convolutional neural nets",
            "description_tooltip": null,
            "disabled": false,
            "indent": true,
            "layout": "IPY_MODEL_a652af06885b4dc8929cac1fd3e10f2d",
            "style": "IPY_MODEL_c81e20fc23914551a69a4187cdf091f9",
            "value": true
          }
        },
        "d9e12de6badc4f8bb861a225511b09ce": {
          "model_module": "@jupyter-widgets/controls",
          "model_name": "CheckboxModel",
          "model_module_version": "1.5.0",
          "state": {
            "_dom_classes": [],
            "_model_module": "@jupyter-widgets/controls",
            "_model_module_version": "1.5.0",
            "_model_name": "CheckboxModel",
            "_view_count": null,
            "_view_module": "@jupyter-widgets/controls",
            "_view_module_version": "1.5.0",
            "_view_name": "CheckboxView",
            "description": "User-Centric Enhancements to Explainable AI Algorithms for Image Classification",
            "description_tooltip": null,
            "disabled": false,
            "indent": true,
            "layout": "IPY_MODEL_a652af06885b4dc8929cac1fd3e10f2d",
            "style": "IPY_MODEL_bd279ffb1c9749e391d4f56f23d9bc43",
            "value": true
          }
        },
        "31713a890a2b4b38863f5975915a4a41": {
          "model_module": "@jupyter-widgets/controls",
          "model_name": "CheckboxModel",
          "model_module_version": "1.5.0",
          "state": {
            "_dom_classes": [],
            "_model_module": "@jupyter-widgets/controls",
            "_model_module_version": "1.5.0",
            "_model_name": "CheckboxModel",
            "_view_count": null,
            "_view_module": "@jupyter-widgets/controls",
            "_view_module_version": "1.5.0",
            "_view_name": "CheckboxView",
            "description": "Malaria cell image classification by explainable artificial intelligence",
            "description_tooltip": null,
            "disabled": false,
            "indent": true,
            "layout": "IPY_MODEL_a652af06885b4dc8929cac1fd3e10f2d",
            "style": "IPY_MODEL_862df852e63943d0b6a8124e120a82ac",
            "value": true
          }
        },
        "dbdd544d229a4983853d1efb956b46ca": {
          "model_module": "@jupyter-widgets/controls",
          "model_name": "CheckboxModel",
          "model_module_version": "1.5.0",
          "state": {
            "_dom_classes": [],
            "_model_module": "@jupyter-widgets/controls",
            "_model_module_version": "1.5.0",
            "_model_name": "CheckboxModel",
            "_view_count": null,
            "_view_module": "@jupyter-widgets/controls",
            "_view_module_version": "1.5.0",
            "_view_name": "CheckboxView",
            "description": "Explainable artificial intelligence for developing smart cities solutions",
            "description_tooltip": null,
            "disabled": false,
            "indent": true,
            "layout": "IPY_MODEL_a652af06885b4dc8929cac1fd3e10f2d",
            "style": "IPY_MODEL_1cb0e2d3f76e490db9b700ad0724c321",
            "value": false
          }
        },
        "d0b125b622f844b8b40d3a291e991020": {
          "model_module": "@jupyter-widgets/controls",
          "model_name": "CheckboxModel",
          "model_module_version": "1.5.0",
          "state": {
            "_dom_classes": [],
            "_model_module": "@jupyter-widgets/controls",
            "_model_module_version": "1.5.0",
            "_model_name": "CheckboxModel",
            "_view_count": null,
            "_view_module": "@jupyter-widgets/controls",
            "_view_module_version": "1.5.0",
            "_view_name": "CheckboxView",
            "description": "Explainable artificial intelligence for bias detection in covid ct-scan classifiers",
            "description_tooltip": null,
            "disabled": false,
            "indent": true,
            "layout": "IPY_MODEL_a652af06885b4dc8929cac1fd3e10f2d",
            "style": "IPY_MODEL_6ba353e9abf245b6a9a85bcee9eba905",
            "value": false
          }
        },
        "a652af06885b4dc8929cac1fd3e10f2d": {
          "model_module": "@jupyter-widgets/base",
          "model_name": "LayoutModel",
          "model_module_version": "1.2.0",
          "state": {
            "_model_module": "@jupyter-widgets/base",
            "_model_module_version": "1.2.0",
            "_model_name": "LayoutModel",
            "_view_count": null,
            "_view_module": "@jupyter-widgets/base",
            "_view_module_version": "1.2.0",
            "_view_name": "LayoutView",
            "align_content": null,
            "align_items": null,
            "align_self": null,
            "border": null,
            "bottom": null,
            "display": null,
            "flex": null,
            "flex_flow": "column",
            "grid_area": null,
            "grid_auto_columns": null,
            "grid_auto_flow": null,
            "grid_auto_rows": null,
            "grid_column": null,
            "grid_gap": null,
            "grid_row": null,
            "grid_template_areas": null,
            "grid_template_columns": null,
            "grid_template_rows": null,
            "height": "auto",
            "justify_content": null,
            "justify_items": null,
            "left": null,
            "margin": null,
            "max_height": null,
            "max_width": null,
            "min_height": null,
            "min_width": null,
            "object_fit": null,
            "object_position": null,
            "order": null,
            "overflow": null,
            "overflow_x": null,
            "overflow_y": null,
            "padding": null,
            "right": null,
            "top": null,
            "visibility": null,
            "width": "auto"
          }
        },
        "c81e20fc23914551a69a4187cdf091f9": {
          "model_module": "@jupyter-widgets/controls",
          "model_name": "DescriptionStyleModel",
          "model_module_version": "1.5.0",
          "state": {
            "_model_module": "@jupyter-widgets/controls",
            "_model_module_version": "1.5.0",
            "_model_name": "DescriptionStyleModel",
            "_view_count": null,
            "_view_module": "@jupyter-widgets/base",
            "_view_module_version": "1.2.0",
            "_view_name": "StyleView",
            "description_width": ""
          }
        },
        "bd279ffb1c9749e391d4f56f23d9bc43": {
          "model_module": "@jupyter-widgets/controls",
          "model_name": "DescriptionStyleModel",
          "model_module_version": "1.5.0",
          "state": {
            "_model_module": "@jupyter-widgets/controls",
            "_model_module_version": "1.5.0",
            "_model_name": "DescriptionStyleModel",
            "_view_count": null,
            "_view_module": "@jupyter-widgets/base",
            "_view_module_version": "1.2.0",
            "_view_name": "StyleView",
            "description_width": ""
          }
        },
        "862df852e63943d0b6a8124e120a82ac": {
          "model_module": "@jupyter-widgets/controls",
          "model_name": "DescriptionStyleModel",
          "model_module_version": "1.5.0",
          "state": {
            "_model_module": "@jupyter-widgets/controls",
            "_model_module_version": "1.5.0",
            "_model_name": "DescriptionStyleModel",
            "_view_count": null,
            "_view_module": "@jupyter-widgets/base",
            "_view_module_version": "1.2.0",
            "_view_name": "StyleView",
            "description_width": ""
          }
        },
        "1cb0e2d3f76e490db9b700ad0724c321": {
          "model_module": "@jupyter-widgets/controls",
          "model_name": "DescriptionStyleModel",
          "model_module_version": "1.5.0",
          "state": {
            "_model_module": "@jupyter-widgets/controls",
            "_model_module_version": "1.5.0",
            "_model_name": "DescriptionStyleModel",
            "_view_count": null,
            "_view_module": "@jupyter-widgets/base",
            "_view_module_version": "1.2.0",
            "_view_name": "StyleView",
            "description_width": ""
          }
        },
        "6ba353e9abf245b6a9a85bcee9eba905": {
          "model_module": "@jupyter-widgets/controls",
          "model_name": "DescriptionStyleModel",
          "model_module_version": "1.5.0",
          "state": {
            "_model_module": "@jupyter-widgets/controls",
            "_model_module_version": "1.5.0",
            "_model_name": "DescriptionStyleModel",
            "_view_count": null,
            "_view_module": "@jupyter-widgets/base",
            "_view_module_version": "1.2.0",
            "_view_name": "StyleView",
            "description_width": ""
          }
        }
      }
    }
  },
  "nbformat": 4,
  "nbformat_minor": 0
}